{
 "cells": [
  {
   "cell_type": "code",
   "execution_count": 1,
   "metadata": {},
   "outputs": [],
   "source": [
    "#imports#\n",
    "import urllib.request as request\n",
    "from bs4 import BeautifulSoup\n",
    "import re\n",
    "import json"
   ]
  },
  {
   "cell_type": "code",
   "execution_count": 2,
   "metadata": {},
   "outputs": [
    {
     "name": "stdout",
     "output_type": "stream",
     "text": [
      "the file was written\n",
      "the file was written\n",
      "the file was written\n",
      "the file was written\n",
      "the file was written\n",
      "the file was written\n",
      "the file was written\n",
      "the file was written\n",
      "the file was written\n",
      "the file was written\n",
      "the file was written\n",
      "the file was written\n"
     ]
    }
   ],
   "source": [
    "\n",
    "main_url = 'https://horoscoponegro.com/horoscopo-semanal'\n",
    "path_file_dest = r'\\\\10.210.55.40\\C$\\xampp\\htdocs\\check\\inicio\\horoscopo-semanal.json'\n",
    "\n",
    "#this function receives an existing url and make a request, returns the html code of that site.\n",
    "def read_site(site_url):\n",
    "    req_site = request.Request(site_url, headers={'User-Agent': 'Mozilla/5.0'})\n",
    "    site = request.urlopen(req_site)\n",
    "    if site.code == 200:\n",
    "        content = site.read().decode(encoding=\"utf-8\")\n",
    "        return BeautifulSoup(content, features=\"html.parser\")\n",
    "\n",
    "    else:\n",
    "        print('La página no responde')\n",
    "        return 'error'\n",
    "\n",
    "#this function writes content in a file, receives the content and the mode of writing('w' = write or 'a' = append)\n",
    "def write_doc_html(content, mode):\n",
    "    own_file = open('sniffet.html', mode, encoding='utf-8')\n",
    "    own_file.write(content)\n",
    "    print('the file was written')\n",
    "\n",
    "def write_doc_json(content, mode):\n",
    "    own_file = open(path_file_dest, mode, encoding='utf-8')\n",
    "    own_file.write(content.decode('utf-8'))\n",
    "    own_file.close()\n",
    "    print('the file was written')\n",
    "\n",
    "#making a request to defined url\n",
    "\"\"\" req = request.Request(main_url, headers={'User-Agent': 'Mozilla/5.0'})\n",
    "res = request.urlopen(req)\n",
    "content = res.read().decode(encoding=\"utf-8\")\n",
    "write_doc_html(content, 'w+') \"\"\"\n",
    "\n",
    "zodiac_signs_final = []\n",
    "\n",
    "soup = read_site(main_url)\n",
    "\n",
    "if soup != 'error':\n",
    "    for link in soup.find_all('a', {'href': re.compile('https://horoscoponegro.com/horoscopo-' and '-semanal-')}):\n",
    "\n",
    "        text = ''\n",
    "        zodiac_sign = read_site(link.get('href'))\n",
    "        title = zodiac_sign.find('h1', {'class': 'entry-title'}).get_text()\n",
    "        week = zodiac_sign.find('h2').get_text()\n",
    "\n",
    "        text = ''\n",
    "        for element in zodiac_sign.find_all(['p', 'strong']):\n",
    "            text += element.get_text()\n",
    "\n",
    "        text = text.replace(week, '')    \n",
    "        text = text.replace('[email protected]', '')\n",
    "\n",
    "        individual = {'title' : title, 'week' : week, 'text' : text}\n",
    "        zodiac_signs_final.append(individual)\n",
    "        #print(zodiac_signs_final)\n",
    "        content = json.dumps(zodiac_signs_final, indent=4, sort_keys=True, ensure_ascii=False).encode('utf-8')\n",
    "        write_doc_json(content ,'w+')"
   ]
  },
  {
   "cell_type": "code",
   "execution_count": null,
   "metadata": {},
   "outputs": [],
   "source": []
  }
 ],
 "metadata": {
  "kernelspec": {
   "display_name": "Python 3",
   "language": "python",
   "name": "python3"
  },
  "language_info": {
   "codemirror_mode": {
    "name": "ipython",
    "version": 3
   },
   "file_extension": ".py",
   "mimetype": "text/x-python",
   "name": "python",
   "nbconvert_exporter": "python",
   "pygments_lexer": "ipython3",
   "version": "3.7.1"
  }
 },
 "nbformat": 4,
 "nbformat_minor": 2
}
