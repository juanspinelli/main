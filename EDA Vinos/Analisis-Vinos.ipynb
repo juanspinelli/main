{
 "cells": [
  {
   "cell_type": "markdown",
   "metadata": {},
   "source": [
    "### Importo las librerias a usar"
   ]
  },
  {
   "cell_type": "code",
   "execution_count": 1,
   "metadata": {},
   "outputs": [],
   "source": [
    "import pandas as pd\n",
    "import unicodedata\n",
    "%matplotlib inline"
   ]
  },
  {
   "cell_type": "markdown",
   "metadata": {},
   "source": [
    "### Dataset\n",
    "Link a dataset: https://www.kaggle.com/zynicide/wine-reviews"
   ]
  },
  {
   "cell_type": "code",
   "execution_count": 2,
   "metadata": {},
   "outputs": [],
   "source": [
    "data = pd.read_csv('wine.csv')"
   ]
  },
  {
   "cell_type": "markdown",
   "metadata": {},
   "source": [
    "### Creo un dataset con todos los datos de Argentina y dejo solo las columnas que voy  usar"
   ]
  },
  {
   "cell_type": "code",
   "execution_count": 3,
   "metadata": {},
   "outputs": [],
   "source": [
    "data = data[data.country == 'Argentina']\n",
    "columnas = data.columns.tolist()\n",
    "columnas_innecesarias = [\"Unnamed: 0\", \"country\", \"description\", \"designation\", \"taster_name\", \"taster_twitter_handle\", \"region_2\"]\n",
    "subconjunto_lista_filtrada = [x for x in columnas if x not in columnas_innecesarias]\n",
    "data = data[subconjunto_lista_filtrada]"
   ]
  },
  {
   "cell_type": "markdown",
   "metadata": {},
   "source": [
    "### Verifico si hay valores nulos"
   ]
  },
  {
   "cell_type": "code",
   "execution_count": 4,
   "metadata": {},
   "outputs": [
    {
     "data": {
      "text/plain": [
       "points       0\n",
       "price       44\n",
       "province     0\n",
       "region_1    53\n",
       "title        0\n",
       "variety      0\n",
       "winery       0\n",
       "dtype: int64"
      ]
     },
     "execution_count": 4,
     "metadata": {},
     "output_type": "execute_result"
    }
   ],
   "source": [
    "data.isnull().sum()"
   ]
  },
  {
   "cell_type": "code",
   "execution_count": 5,
   "metadata": {},
   "outputs": [],
   "source": [
    "antes_de_drop = data.shape[0]"
   ]
  },
  {
   "cell_type": "markdown",
   "metadata": {},
   "source": [
    "### Elimino las filas duplicadas"
   ]
  },
  {
   "cell_type": "code",
   "execution_count": 6,
   "metadata": {},
   "outputs": [],
   "source": [
    "data = data.drop_duplicates()\n",
    "\n",
    "despues_de_drop = data.shape[0]\n",
    "data = data.reset_index()"
   ]
  },
  {
   "cell_type": "markdown",
   "metadata": {},
   "source": [
    "### Creo el campo creacion que va a contener el año en que se creo el vino (Se obtiene del title)"
   ]
  },
  {
   "cell_type": "code",
   "execution_count": 7,
   "metadata": {},
   "outputs": [],
   "source": [
    "data[\"creacion\"] = data.title.str.extract(r\"\\b(19\\d\\d|20[01]\\d)\\b\", expand=False)"
   ]
  },
  {
   "cell_type": "markdown",
   "metadata": {},
   "source": [
    "### Completo los vacios en creacion (el titulo no tenia año) con un 0 <br> Completo las regiones NaN con '' <br> Cambio el dato de creacion de string a int"
   ]
  },
  {
   "cell_type": "code",
   "execution_count": 8,
   "metadata": {},
   "outputs": [],
   "source": [
    "data.creacion = data.creacion.fillna(value=0)\n",
    "data.region_1 = data.region_1.fillna(value= '')\n",
    "data.creacion = data.creacion.astype(int)"
   ]
  },
  {
   "cell_type": "markdown",
   "metadata": {},
   "source": [
    "### Creo el campo categoria donde hay 3 tipos segun el puntaje del vino <br> <span style=\"color: red\">0 <= 60 --- Detractor</span> <br> <span style=\"color: orange\">61 <= 80 --- Neutro</span> <br> <span style=\"color: green\">81 <= 100 --- Promotor</span>"
   ]
  },
  {
   "cell_type": "code",
   "execution_count": 9,
   "metadata": {},
   "outputs": [],
   "source": [
    "for i in range(0, len(data)):\n",
    "    if 0 <= data.loc[i, 'points'] <= 60:\n",
    "        data.loc[i,'categoria'] = 'Detractor'\n",
    "    elif 61 <= data.loc[i, 'points'] <= 80:\n",
    "        data.loc[i,'categoria'] = 'Neutro'\n",
    "    elif 81 <= data.loc[i, 'points'] <= 100:\n",
    "        data.loc[i,'categoria'] = 'Promotor'\n",
    "    else:\n",
    "        data.loc[i,'categoria'] = ''"
   ]
  },
  {
   "cell_type": "markdown",
   "metadata": {},
   "source": [
    "### Verifico cada una de las columnas, si el tipo es 0 (string) le limpio los carecteres especiales, le saco las tildes y los paso a minuscula"
   ]
  },
  {
   "cell_type": "code",
   "execution_count": 10,
   "metadata": {},
   "outputs": [],
   "source": [
    "for x in range (0, len(data.columns)):\n",
    "    if data.dtypes[x] == 'O':\n",
    "        data[data.columns[x]] = data[data.columns[x]].str.lower().str.strip()\n",
    "        data[data.columns[x]] = data[data.columns[x]].str.normalize('NFKD').str.encode('ascii', errors='ignore').str.decode('utf-8') "
   ]
  },
  {
   "cell_type": "markdown",
   "metadata": {},
   "source": [
    "### Muestro cuantos datos habia y cuantos quedaron luego de eliminar las filas duplicadas"
   ]
  },
  {
   "cell_type": "code",
   "execution_count": 11,
   "metadata": {},
   "outputs": [
    {
     "data": {
      "text/plain": [
       "(3800, 3544)"
      ]
     },
     "execution_count": 11,
     "metadata": {},
     "output_type": "execute_result"
    }
   ],
   "source": [
    "antes_de_drop, despues_de_drop"
   ]
  },
  {
   "cell_type": "markdown",
   "metadata": {},
   "source": [
    "### Verifico las regiones y provincias"
   ]
  },
  {
   "cell_type": "code",
   "execution_count": 12,
   "metadata": {},
   "outputs": [
    {
     "data": {
      "text/plain": [
       "array(['cafayate', 'mendoza', 'salta', 'lujan de cuyo', 'san juan', '',\n",
       "       'uco valley', 'perdriel', 'tupungato', 'valle de uco',\n",
       "       'calchaqui valley', 'vista flores', 'maipu', 'patagonia',\n",
       "       'alto valle del rio negro', 'la consulta', 'agrelo', 'neuquen',\n",
       "       'rio negro valley', 'la rioja', 'famatina valley', 'argentina',\n",
       "       'tulum valley', 'buenos aires', 'jujuy', 'san carlos',\n",
       "       'pedernal valley', 'zonda valley', 'medrano', 'altos de mendoza',\n",
       "       'san rafael', 'catamarca'], dtype=object)"
      ]
     },
     "execution_count": 12,
     "metadata": {},
     "output_type": "execute_result"
    }
   ],
   "source": [
    "data.region_1.unique()"
   ]
  },
  {
   "cell_type": "code",
   "execution_count": 13,
   "metadata": {},
   "outputs": [
    {
     "data": {
      "text/plain": [
       "array(['other', 'mendoza province'], dtype=object)"
      ]
     },
     "execution_count": 13,
     "metadata": {},
     "output_type": "execute_result"
    }
   ],
   "source": [
    "data.province.unique()"
   ]
  },
  {
   "cell_type": "markdown",
   "metadata": {},
   "source": [
    "### Cambio la provincia mendoza province a mendoza"
   ]
  },
  {
   "cell_type": "code",
   "execution_count": 14,
   "metadata": {},
   "outputs": [],
   "source": [
    "data.province = data.province.str.replace('mendoza province', 'mendoza')"
   ]
  },
  {
   "cell_type": "markdown",
   "metadata": {},
   "source": [
    "### Cambio las regiones que estan en ingles a castellano"
   ]
  },
  {
   "cell_type": "code",
   "execution_count": 15,
   "metadata": {},
   "outputs": [],
   "source": [
    "data.replace({'region_1' : { 'uco valley' : 'valle de uco', 'calchaqui valley' : 'valle calchaqui', \n",
    "                            'rio negro valley' : 'alto valle del rio negro', \n",
    "                            'famatina valley'  : 'valle de famatina', 'tulum valley'  : 'oasis del tulum',\n",
    "                            'pedernal valley'  : 'valle de pedernal', 'zonda valley'  : 'oasis de zonda' }}, inplace = True)"
   ]
  },
  {
   "cell_type": "markdown",
   "metadata": {},
   "source": [
    "### Me fijo que las regiones hayan quedado ok"
   ]
  },
  {
   "cell_type": "code",
   "execution_count": 16,
   "metadata": {},
   "outputs": [
    {
     "data": {
      "text/plain": [
       "array(['cafayate', 'mendoza', 'salta', 'lujan de cuyo', 'san juan', '',\n",
       "       'valle de uco', 'perdriel', 'tupungato', 'valle calchaqui',\n",
       "       'vista flores', 'maipu', 'patagonia', 'alto valle del rio negro',\n",
       "       'la consulta', 'agrelo', 'neuquen', 'la rioja',\n",
       "       'valle de famatina', 'argentina', 'oasis del tulum',\n",
       "       'buenos aires', 'jujuy', 'san carlos', 'valle de pedernal',\n",
       "       'oasis de zonda', 'medrano', 'altos de mendoza', 'san rafael',\n",
       "       'catamarca'], dtype=object)"
      ]
     },
     "execution_count": 16,
     "metadata": {},
     "output_type": "execute_result"
    }
   ],
   "source": [
    "data.region_1.unique()"
   ]
  },
  {
   "cell_type": "markdown",
   "metadata": {},
   "source": [
    "### Una de las regiones es Argentina <br> Usando la vineria puedo obtener de que provincias son por lo que armo dos listas con las provincias y vinerias unicas donde la region sea argentina <br> Luego con un for voy recorriendo y donde la region era Argentina lo reemplazo por la provincia donde esta la vineria"
   ]
  },
  {
   "cell_type": "code",
   "execution_count": 17,
   "metadata": {},
   "outputs": [],
   "source": [
    "lista_provincia = ['cordoba','mendoza','mendoza','mendoza','neuquen','mendoza','mendoza','mendoza','mendoza','mendoza','catamarca','san juan','mendoza','mendoza','mendoza','mendoza','mendoza']\n",
    "lista_vineria = ['bodega las canitas','haarth','terrazas de los andes','san huberto','familia schroeder','rutini','mendoza vineyards','aguijon de abeja','cave extreme','ruca malen','alto 3','finca las moras','casa de campo','battle axe','lost vineyards','staphyle','trapiche']"
   ]
  },
  {
   "cell_type": "code",
   "execution_count": 18,
   "metadata": {},
   "outputs": [],
   "source": [
    "for x in range (0, len(lista_provincia)):\n",
    "    for i in range(0, len(data)):\n",
    "        if data.winery[i] == lista_vineria[x]:\n",
    "            data.loc[i,'region_1'] = lista_provincia[x]"
   ]
  },
  {
   "cell_type": "markdown",
   "metadata": {},
   "source": [
    "### Hay provincia llamada other por lo que al tener ya las regiones completas reemplazo ese other por la region que le corresponde"
   ]
  },
  {
   "cell_type": "code",
   "execution_count": 19,
   "metadata": {},
   "outputs": [],
   "source": [
    "for x in range (0, len(data)):\n",
    "    if data.province[x] == 'other':\n",
    "        data.loc[x,'province'] = data.region_1[x]"
   ]
  },
  {
   "cell_type": "markdown",
   "metadata": {},
   "source": [
    "### Hay algunas regiones vacias por lo que las reemplazo por la provincia que le corresponde"
   ]
  },
  {
   "cell_type": "code",
   "execution_count": 20,
   "metadata": {},
   "outputs": [],
   "source": [
    "for x in range(0, len(data)):\n",
    "    if data.region_1[x] == '':\n",
    "        data.loc[x,'region_1'] = data.loc[x,'province']"
   ]
  },
  {
   "cell_type": "markdown",
   "metadata": {},
   "source": [
    "### Hay provincias que estan con el dato de la region como por ejemplo Cafayate cuando tiene que ser Salta. <br> Ya que tengo las regiones completas elimino la columna provincia"
   ]
  },
  {
   "cell_type": "code",
   "execution_count": 21,
   "metadata": {},
   "outputs": [],
   "source": [
    "data.drop('province', axis=1, inplace=True)"
   ]
  },
  {
   "cell_type": "markdown",
   "metadata": {},
   "source": [
    "### Creo un mapeo donde detallo a que provincia corresponden las regiones que salen en las provincias"
   ]
  },
  {
   "cell_type": "code",
   "execution_count": 22,
   "metadata": {},
   "outputs": [],
   "source": [
    "mapeo = {\n",
    "    'cafayate' : 'salta',\n",
    "    'lujan de cuyo'\t: 'mendoza',\n",
    "    'valle de uco' : 'mendoza',\n",
    "    'perdriel' : 'mendoza',\n",
    "    'tupungato'\t: 'mendoza',\n",
    "    'valle calchaqui' : 'valle calchaqui',\n",
    "    'vista flores' : 'mendoza',\n",
    "    'maipu'\t: 'maipu',\n",
    "    'patagonia'\t: 'patagonia',\n",
    "    'alto valle del rio negro' : 'rio negro',\n",
    "    'la consulta' : 'mendoza',\n",
    "    'agrelo' : 'mendoza',\n",
    "    'valle de famatina'\t: 'la rioja',\n",
    "    'oasis del tulum' : 'san juan',\n",
    "    'san carlos' : 'salta',\n",
    "    'oasis de zonda' : 'san juan',\n",
    "    'medrano' : 'mendoza',\n",
    "    'valle de pedernal'\t: 'san juan',\n",
    "    'altos de mendoza' : 'mendoza',\n",
    "    'san rafael' : 'mendoza',\n",
    "    'mendoza' : 'mendoza',\n",
    "    'salta' : 'salta',\n",
    "    'san juan' : 'san juan',\n",
    "    'neuquen' : 'neuquen',\n",
    "    'la rioja' : 'la rioja',\n",
    "    'cordoba' : 'cordoba',\n",
    "    'jujuy' : 'jujuy',\n",
    "    'catamarca' : 'catamarca'\n",
    "}"
   ]
  },
  {
   "cell_type": "markdown",
   "metadata": {},
   "source": [
    "### Y con ese diccionario hago un map creando la columna provincia"
   ]
  },
  {
   "cell_type": "code",
   "execution_count": 23,
   "metadata": {},
   "outputs": [],
   "source": [
    "data['province'] = data['region_1'].map(mapeo)"
   ]
  },
  {
   "cell_type": "markdown",
   "metadata": {},
   "source": [
    "### Ahora ya tengo las provincias y las regiones bien <br> Ej: Si es region Cafayate es provincia Salta"
   ]
  },
  {
   "cell_type": "code",
   "execution_count": 24,
   "metadata": {},
   "outputs": [
    {
     "data": {
      "text/html": [
       "<div>\n",
       "<style scoped>\n",
       "    .dataframe tbody tr th:only-of-type {\n",
       "        vertical-align: middle;\n",
       "    }\n",
       "\n",
       "    .dataframe tbody tr th {\n",
       "        vertical-align: top;\n",
       "    }\n",
       "\n",
       "    .dataframe thead th {\n",
       "        text-align: right;\n",
       "    }\n",
       "</style>\n",
       "<table border=\"1\" class=\"dataframe\">\n",
       "  <thead>\n",
       "    <tr style=\"text-align: right;\">\n",
       "      <th></th>\n",
       "      <th>index</th>\n",
       "      <th>points</th>\n",
       "      <th>price</th>\n",
       "      <th>region_1</th>\n",
       "      <th>title</th>\n",
       "      <th>variety</th>\n",
       "      <th>winery</th>\n",
       "      <th>creacion</th>\n",
       "      <th>categoria</th>\n",
       "      <th>province</th>\n",
       "    </tr>\n",
       "  </thead>\n",
       "  <tbody>\n",
       "    <tr>\n",
       "      <th>0</th>\n",
       "      <td>16</td>\n",
       "      <td>87</td>\n",
       "      <td>30.0</td>\n",
       "      <td>cafayate</td>\n",
       "      <td>felix lavaque 2010 felix malbec (cafayate)</td>\n",
       "      <td>malbec</td>\n",
       "      <td>felix lavaque</td>\n",
       "      <td>2010</td>\n",
       "      <td>promotor</td>\n",
       "      <td>salta</td>\n",
       "    </tr>\n",
       "    <tr>\n",
       "      <th>1</th>\n",
       "      <td>17</td>\n",
       "      <td>87</td>\n",
       "      <td>13.0</td>\n",
       "      <td>mendoza</td>\n",
       "      <td>gaucho andino 2011 winemaker selection malbec ...</td>\n",
       "      <td>malbec</td>\n",
       "      <td>gaucho andino</td>\n",
       "      <td>2011</td>\n",
       "      <td>promotor</td>\n",
       "      <td>mendoza</td>\n",
       "    </tr>\n",
       "    <tr>\n",
       "      <th>2</th>\n",
       "      <td>183</td>\n",
       "      <td>88</td>\n",
       "      <td>12.0</td>\n",
       "      <td>salta</td>\n",
       "      <td>alamos 2007 torrontes (salta)</td>\n",
       "      <td>torrontes</td>\n",
       "      <td>alamos</td>\n",
       "      <td>2007</td>\n",
       "      <td>promotor</td>\n",
       "      <td>salta</td>\n",
       "    </tr>\n",
       "    <tr>\n",
       "      <th>3</th>\n",
       "      <td>224</td>\n",
       "      <td>90</td>\n",
       "      <td>22.0</td>\n",
       "      <td>lujan de cuyo</td>\n",
       "      <td>mendel 2014 lunta malbec (lujan de cuyo)</td>\n",
       "      <td>malbec</td>\n",
       "      <td>mendel</td>\n",
       "      <td>2014</td>\n",
       "      <td>promotor</td>\n",
       "      <td>mendoza</td>\n",
       "    </tr>\n",
       "    <tr>\n",
       "      <th>4</th>\n",
       "      <td>231</td>\n",
       "      <td>85</td>\n",
       "      <td>10.0</td>\n",
       "      <td>mendoza</td>\n",
       "      <td>andean sky 2007 bonarda (mendoza)</td>\n",
       "      <td>bonarda</td>\n",
       "      <td>andean sky</td>\n",
       "      <td>2007</td>\n",
       "      <td>promotor</td>\n",
       "      <td>mendoza</td>\n",
       "    </tr>\n",
       "    <tr>\n",
       "      <th>5</th>\n",
       "      <td>245</td>\n",
       "      <td>85</td>\n",
       "      <td>12.0</td>\n",
       "      <td>san juan</td>\n",
       "      <td>finca las moras 2007 reserve chardonnay (san j...</td>\n",
       "      <td>chardonnay</td>\n",
       "      <td>finca las moras</td>\n",
       "      <td>2007</td>\n",
       "      <td>promotor</td>\n",
       "      <td>san juan</td>\n",
       "    </tr>\n",
       "    <tr>\n",
       "      <th>6</th>\n",
       "      <td>253</td>\n",
       "      <td>85</td>\n",
       "      <td>15.0</td>\n",
       "      <td>lujan de cuyo</td>\n",
       "      <td>cueva de las manos 2007 reserve malbec (lujan ...</td>\n",
       "      <td>malbec</td>\n",
       "      <td>cueva de las manos</td>\n",
       "      <td>2007</td>\n",
       "      <td>promotor</td>\n",
       "      <td>mendoza</td>\n",
       "    </tr>\n",
       "    <tr>\n",
       "      <th>7</th>\n",
       "      <td>261</td>\n",
       "      <td>89</td>\n",
       "      <td>37.0</td>\n",
       "      <td>mendoza</td>\n",
       "      <td>algodon 2008 estate blend gran reserva red</td>\n",
       "      <td>red blend</td>\n",
       "      <td>algodon</td>\n",
       "      <td>2008</td>\n",
       "      <td>promotor</td>\n",
       "      <td>mendoza</td>\n",
       "    </tr>\n",
       "    <tr>\n",
       "      <th>8</th>\n",
       "      <td>266</td>\n",
       "      <td>89</td>\n",
       "      <td>14.0</td>\n",
       "      <td>mendoza</td>\n",
       "      <td>kaiken 2008 corte malbec-bonarda-petit verdot ...</td>\n",
       "      <td>red blend</td>\n",
       "      <td>kaiken</td>\n",
       "      <td>2008</td>\n",
       "      <td>promotor</td>\n",
       "      <td>mendoza</td>\n",
       "    </tr>\n",
       "    <tr>\n",
       "      <th>9</th>\n",
       "      <td>273</td>\n",
       "      <td>89</td>\n",
       "      <td>19.0</td>\n",
       "      <td>valle de uco</td>\n",
       "      <td>o. fournier 2007 b crux red (uco valley)</td>\n",
       "      <td>red blend</td>\n",
       "      <td>o. fournier</td>\n",
       "      <td>2007</td>\n",
       "      <td>promotor</td>\n",
       "      <td>mendoza</td>\n",
       "    </tr>\n",
       "  </tbody>\n",
       "</table>\n",
       "</div>"
      ],
      "text/plain": [
       "   index  points  price       region_1  \\\n",
       "0     16      87   30.0       cafayate   \n",
       "1     17      87   13.0        mendoza   \n",
       "2    183      88   12.0          salta   \n",
       "3    224      90   22.0  lujan de cuyo   \n",
       "4    231      85   10.0        mendoza   \n",
       "5    245      85   12.0       san juan   \n",
       "6    253      85   15.0  lujan de cuyo   \n",
       "7    261      89   37.0        mendoza   \n",
       "8    266      89   14.0        mendoza   \n",
       "9    273      89   19.0   valle de uco   \n",
       "\n",
       "                                               title     variety  \\\n",
       "0         felix lavaque 2010 felix malbec (cafayate)      malbec   \n",
       "1  gaucho andino 2011 winemaker selection malbec ...      malbec   \n",
       "2                      alamos 2007 torrontes (salta)   torrontes   \n",
       "3           mendel 2014 lunta malbec (lujan de cuyo)      malbec   \n",
       "4                  andean sky 2007 bonarda (mendoza)     bonarda   \n",
       "5  finca las moras 2007 reserve chardonnay (san j...  chardonnay   \n",
       "6  cueva de las manos 2007 reserve malbec (lujan ...      malbec   \n",
       "7         algodon 2008 estate blend gran reserva red   red blend   \n",
       "8  kaiken 2008 corte malbec-bonarda-petit verdot ...   red blend   \n",
       "9           o. fournier 2007 b crux red (uco valley)   red blend   \n",
       "\n",
       "               winery  creacion categoria  province  \n",
       "0       felix lavaque      2010  promotor     salta  \n",
       "1       gaucho andino      2011  promotor   mendoza  \n",
       "2              alamos      2007  promotor     salta  \n",
       "3              mendel      2014  promotor   mendoza  \n",
       "4          andean sky      2007  promotor   mendoza  \n",
       "5     finca las moras      2007  promotor  san juan  \n",
       "6  cueva de las manos      2007  promotor   mendoza  \n",
       "7             algodon      2008  promotor   mendoza  \n",
       "8              kaiken      2008  promotor   mendoza  \n",
       "9         o. fournier      2007  promotor   mendoza  "
      ]
     },
     "execution_count": 24,
     "metadata": {},
     "output_type": "execute_result"
    }
   ],
   "source": [
    "data.head(10)"
   ]
  },
  {
   "cell_type": "markdown",
   "metadata": {},
   "source": [
    "### Verifico las provincias unicas para ver si esta todo ok <br> Encuentro 3 provincias que hay que arreglar ya que no son provincias: Valle Calchaqui, Maipu, Patagonia"
   ]
  },
  {
   "cell_type": "code",
   "execution_count": 25,
   "metadata": {},
   "outputs": [
    {
     "data": {
      "text/plain": [
       "array(['salta', 'mendoza', 'san juan', 'valle calchaqui', 'maipu',\n",
       "       'patagonia', 'rio negro', 'neuquen', 'la rioja', 'cordoba',\n",
       "       'jujuy', 'catamarca'], dtype=object)"
      ]
     },
     "execution_count": 25,
     "metadata": {},
     "output_type": "execute_result"
    }
   ],
   "source": [
    "data.province.unique()"
   ]
  },
  {
   "cell_type": "markdown",
   "metadata": {},
   "source": [
    "### Busco todas las vinerias de esas 3 provincias <br> Googleo de donde son (unas 42)"
   ]
  },
  {
   "cell_type": "code",
   "execution_count": 26,
   "metadata": {},
   "outputs": [],
   "source": [
    "vineria_provincia = ['aniello','humberto canale','bodega chacra','bodega noemia de patagonia','bodega nqn','bodega patritti','denario','ruta 22','alpataco','bodega del fin del mundo','fabre montmayou','nemesio','restivo','schroeder estate','bodegas fabre','manos negras','southern edge','valle azul','nieto senetiner','infinitus','verum','aymara','bodega don bosco','pascual toso','luigi bosca','tercos','viamonte','coiron','palo alto','finca los olmos','zuccardi','el esteco','michel torino','colome','amalaya','inca','bodega tacuil']\n",
    "provincia_vineria = ['rio negro','rio negro','rio negro','rio negro','neuquen','neuquen','rio negro','mendoza','neuquen','neuquen','mendoza','neuquen','mendoza','neuquen','mendoza','mendoza','neuquen','mendoza','mendoza','rio negro','rio negro','mendoza','mendoza','mendoza','mendoza','mendoza','mendoza','mendoza','mendoza','mendoza','mendoza','salta','salta','salta','salta','salta','salta']"
   ]
  },
  {
   "cell_type": "markdown",
   "metadata": {},
   "source": [
    "### Ahora recorriendo si la vineria es igual a la vineria_provincia lo que hago es reemplazar la provincia por la posicion que corresponda en provincia_vineria <br> Ej la posicion 0 es vineria aniello como es igual a la primer posicion de vineria_provincia a data.provincia en la posicion 0 la relleno con la provincia_vineria en al posicion 0 o sea: Rio Negro"
   ]
  },
  {
   "cell_type": "code",
   "execution_count": 27,
   "metadata": {},
   "outputs": [],
   "source": [
    "for x in range (0, len(vineria_provincia)):\n",
    "    for i in range(0, len(data)):\n",
    "        if data.winery[i] == vineria_provincia[x]:\n",
    "            data.loc[i,'province'] = provincia_vineria[x]"
   ]
  },
  {
   "cell_type": "markdown",
   "metadata": {},
   "source": [
    "### Ahora al verificar las provincias vemos que esta todo ok"
   ]
  },
  {
   "cell_type": "code",
   "execution_count": 28,
   "metadata": {},
   "outputs": [
    {
     "data": {
      "text/plain": [
       "array(['salta', 'mendoza', 'san juan', 'rio negro', 'neuquen', 'la rioja',\n",
       "       'cordoba', 'jujuy', 'catamarca'], dtype=object)"
      ]
     },
     "execution_count": 28,
     "metadata": {},
     "output_type": "execute_result"
    }
   ],
   "source": [
    "data.province.unique()"
   ]
  },
  {
   "cell_type": "markdown",
   "metadata": {},
   "source": [
    "### Verifico los nulos"
   ]
  },
  {
   "cell_type": "code",
   "execution_count": 29,
   "metadata": {},
   "outputs": [
    {
     "data": {
      "text/plain": [
       "index         0\n",
       "points        0\n",
       "price        43\n",
       "region_1      0\n",
       "title         0\n",
       "variety       0\n",
       "winery        0\n",
       "creacion      0\n",
       "categoria     0\n",
       "province      0\n",
       "dtype: int64"
      ]
     },
     "execution_count": 29,
     "metadata": {},
     "output_type": "execute_result"
    }
   ],
   "source": [
    "data.isnull().sum()"
   ]
  },
  {
   "cell_type": "markdown",
   "metadata": {},
   "source": [
    "### Completo todos los precios nulos con 0, al ser float los rellena con 0.0"
   ]
  },
  {
   "cell_type": "code",
   "execution_count": 30,
   "metadata": {},
   "outputs": [],
   "source": [
    "data.price = data.price.fillna(value=0)"
   ]
  },
  {
   "cell_type": "markdown",
   "metadata": {},
   "source": [
    "### Para obtener un precio a rellenar lo que hago es ir recorriendo todas las filas donde el precio sea igual a 0.0 y creo una variable donde van a estar todos los precios de los vinos segun variedad, provincia, region_1 y vineria y de eso obtengo la media y relleno el precio segun corresponda <br> Ej: Si la variedad es Malbec, la provincia es Mendoza, la region es Cafayate y la vineria es Felix Lavaque, la media del precio de todos los vinos que cumplan con esas condiciones va a ser el dato con el que voy a rellenar los price 0.0 donde todos los otros campos cumplan las mismas condiciones"
   ]
  },
  {
   "cell_type": "code",
   "execution_count": 31,
   "metadata": {},
   "outputs": [],
   "source": [
    "data.replace({'region_1' : { 'uco valley' : 'valle de uco', 'calchaqui valley' : 'valle calchaqui', \n",
    "                            'rio negro valley' : 'alto valle del rio negro', \n",
    "                            'famatina valley'  : 'valle de famatina', 'tulum valley'  : 'oasis del tulum',\n",
    "                            'pedernal valley'  : 'valle de pedernal', 'zonda valley'  : 'oasis de zonda' }}, inplace = True)"
   ]
  },
  {
   "cell_type": "code",
   "execution_count": 32,
   "metadata": {},
   "outputs": [
    {
     "data": {
      "text/html": [
       "<div>\n",
       "<style scoped>\n",
       "    .dataframe tbody tr th:only-of-type {\n",
       "        vertical-align: middle;\n",
       "    }\n",
       "\n",
       "    .dataframe tbody tr th {\n",
       "        vertical-align: top;\n",
       "    }\n",
       "\n",
       "    .dataframe thead th {\n",
       "        text-align: right;\n",
       "    }\n",
       "</style>\n",
       "<table border=\"1\" class=\"dataframe\">\n",
       "  <thead>\n",
       "    <tr style=\"text-align: right;\">\n",
       "      <th></th>\n",
       "      <th>index</th>\n",
       "      <th>points</th>\n",
       "      <th>price</th>\n",
       "      <th>region_1</th>\n",
       "      <th>title</th>\n",
       "      <th>variety</th>\n",
       "      <th>winery</th>\n",
       "      <th>creacion</th>\n",
       "      <th>categoria</th>\n",
       "      <th>province</th>\n",
       "    </tr>\n",
       "  </thead>\n",
       "  <tbody>\n",
       "    <tr>\n",
       "      <th>0</th>\n",
       "      <td>16</td>\n",
       "      <td>87</td>\n",
       "      <td>30.0</td>\n",
       "      <td>cafayate</td>\n",
       "      <td>felix lavaque 2010 felix malbec (cafayate)</td>\n",
       "      <td>malbec</td>\n",
       "      <td>felix lavaque</td>\n",
       "      <td>2010</td>\n",
       "      <td>promotor</td>\n",
       "      <td>salta</td>\n",
       "    </tr>\n",
       "  </tbody>\n",
       "</table>\n",
       "</div>"
      ],
      "text/plain": [
       "   index  points  price  region_1                                       title  \\\n",
       "0     16      87   30.0  cafayate  felix lavaque 2010 felix malbec (cafayate)   \n",
       "\n",
       "  variety         winery  creacion categoria province  \n",
       "0  malbec  felix lavaque      2010  promotor    salta  "
      ]
     },
     "execution_count": 32,
     "metadata": {},
     "output_type": "execute_result"
    }
   ],
   "source": [
    "data.head(1)"
   ]
  },
  {
   "cell_type": "code",
   "execution_count": 33,
   "metadata": {},
   "outputs": [
    {
     "data": {
      "text/html": [
       "<div>\n",
       "<style scoped>\n",
       "    .dataframe tbody tr th:only-of-type {\n",
       "        vertical-align: middle;\n",
       "    }\n",
       "\n",
       "    .dataframe tbody tr th {\n",
       "        vertical-align: top;\n",
       "    }\n",
       "\n",
       "    .dataframe thead th {\n",
       "        text-align: right;\n",
       "    }\n",
       "</style>\n",
       "<table border=\"1\" class=\"dataframe\">\n",
       "  <thead>\n",
       "    <tr style=\"text-align: right;\">\n",
       "      <th></th>\n",
       "      <th>index</th>\n",
       "      <th>points</th>\n",
       "      <th>price</th>\n",
       "      <th>region_1</th>\n",
       "      <th>title</th>\n",
       "      <th>variety</th>\n",
       "      <th>winery</th>\n",
       "      <th>creacion</th>\n",
       "      <th>categoria</th>\n",
       "      <th>province</th>\n",
       "    </tr>\n",
       "  </thead>\n",
       "  <tbody>\n",
       "    <tr>\n",
       "      <th>513</th>\n",
       "      <td>17155</td>\n",
       "      <td>84</td>\n",
       "      <td>0.0</td>\n",
       "      <td>valle de uco</td>\n",
       "      <td>andeluna 2013 1300 chardonnay (uco valley)</td>\n",
       "      <td>chardonnay</td>\n",
       "      <td>andeluna</td>\n",
       "      <td>2013</td>\n",
       "      <td>promotor</td>\n",
       "      <td>mendoza</td>\n",
       "    </tr>\n",
       "    <tr>\n",
       "      <th>2151</th>\n",
       "      <td>77855</td>\n",
       "      <td>85</td>\n",
       "      <td>15.0</td>\n",
       "      <td>valle de uco</td>\n",
       "      <td>andeluna 2011 1300 chardonnay (uco valley)</td>\n",
       "      <td>chardonnay</td>\n",
       "      <td>andeluna</td>\n",
       "      <td>2011</td>\n",
       "      <td>promotor</td>\n",
       "      <td>mendoza</td>\n",
       "    </tr>\n",
       "    <tr>\n",
       "      <th>2476</th>\n",
       "      <td>90905</td>\n",
       "      <td>80</td>\n",
       "      <td>16.0</td>\n",
       "      <td>valle de uco</td>\n",
       "      <td>andeluna 2015 1300 chardonnay (valle de uco)</td>\n",
       "      <td>chardonnay</td>\n",
       "      <td>andeluna</td>\n",
       "      <td>2015</td>\n",
       "      <td>neutro</td>\n",
       "      <td>mendoza</td>\n",
       "    </tr>\n",
       "    <tr>\n",
       "      <th>2550</th>\n",
       "      <td>93677</td>\n",
       "      <td>84</td>\n",
       "      <td>15.0</td>\n",
       "      <td>valle de uco</td>\n",
       "      <td>andeluna 2012 1300 chardonnay (uco valley)</td>\n",
       "      <td>chardonnay</td>\n",
       "      <td>andeluna</td>\n",
       "      <td>2012</td>\n",
       "      <td>promotor</td>\n",
       "      <td>mendoza</td>\n",
       "    </tr>\n",
       "  </tbody>\n",
       "</table>\n",
       "</div>"
      ],
      "text/plain": [
       "      index  points  price      region_1  \\\n",
       "513   17155      84    0.0  valle de uco   \n",
       "2151  77855      85   15.0  valle de uco   \n",
       "2476  90905      80   16.0  valle de uco   \n",
       "2550  93677      84   15.0  valle de uco   \n",
       "\n",
       "                                             title     variety    winery  \\\n",
       "513     andeluna 2013 1300 chardonnay (uco valley)  chardonnay  andeluna   \n",
       "2151    andeluna 2011 1300 chardonnay (uco valley)  chardonnay  andeluna   \n",
       "2476  andeluna 2015 1300 chardonnay (valle de uco)  chardonnay  andeluna   \n",
       "2550    andeluna 2012 1300 chardonnay (uco valley)  chardonnay  andeluna   \n",
       "\n",
       "      creacion categoria province  \n",
       "513       2013  promotor  mendoza  \n",
       "2151      2011  promotor  mendoza  \n",
       "2476      2015    neutro  mendoza  \n",
       "2550      2012  promotor  mendoza  "
      ]
     },
     "execution_count": 33,
     "metadata": {},
     "output_type": "execute_result"
    }
   ],
   "source": [
    "datos = data[(data.variety == 'chardonnay') & \n",
    "    (data.province == 'mendoza') & \n",
    "    (data.region_1 == 'valle de uco') &\n",
    "    (data.winery == 'andeluna')]\n",
    "datos"
   ]
  },
  {
   "cell_type": "code",
   "execution_count": 35,
   "metadata": {},
   "outputs": [],
   "source": [
    "for x in range(0, len(data)):\n",
    "    if data.price[x] == 0.0:\n",
    "        filtro = data[(data.variety == data.variety[x]) & \n",
    "                      (data.province == data.province[x]) & \n",
    "                      (data.region_1 == data.region_1[x]) &\n",
    "                      (data.winery == data.winery[x])]\n",
    "        data.loc[x,'price'] = filtro.price.median()"
   ]
  },
  {
   "cell_type": "markdown",
   "metadata": {},
   "source": [
    "### Quedan 4 valores sueltos con valor 0.0 ya que no tienen un precio y no hay otros con esa vineria y variedad <br> Por lo que para llenar estos ultimos hago lo mismo que arriba solo que poniendo menos condiciones solo basandome en la provincia y la variedad <br> Por ejemplo si alguno de estos 4 es Malbec, Mendoza, cambo el 0.0 por la media de todos los vinos Malbec de Mendoza"
   ]
  },
  {
   "cell_type": "code",
   "execution_count": 36,
   "metadata": {},
   "outputs": [],
   "source": [
    "for x in range(0, len(data)):\n",
    "    if data.price[x] == 0.0:\n",
    "        otro_filtro = data[(data.province == data.province[x]) & (data.variety == data.variety[x])]\n",
    "        data.loc[x,'price'] = otro_filtro.price.median()"
   ]
  },
  {
   "cell_type": "code",
   "execution_count": 37,
   "metadata": {},
   "outputs": [
    {
     "data": {
      "text/html": [
       "<div>\n",
       "<style scoped>\n",
       "    .dataframe tbody tr th:only-of-type {\n",
       "        vertical-align: middle;\n",
       "    }\n",
       "\n",
       "    .dataframe tbody tr th {\n",
       "        vertical-align: top;\n",
       "    }\n",
       "\n",
       "    .dataframe thead th {\n",
       "        text-align: right;\n",
       "    }\n",
       "</style>\n",
       "<table border=\"1\" class=\"dataframe\">\n",
       "  <thead>\n",
       "    <tr style=\"text-align: right;\">\n",
       "      <th></th>\n",
       "      <th>index</th>\n",
       "      <th>points</th>\n",
       "      <th>price</th>\n",
       "      <th>region_1</th>\n",
       "      <th>title</th>\n",
       "      <th>variety</th>\n",
       "      <th>winery</th>\n",
       "      <th>creacion</th>\n",
       "      <th>categoria</th>\n",
       "      <th>province</th>\n",
       "    </tr>\n",
       "  </thead>\n",
       "  <tbody>\n",
       "    <tr>\n",
       "      <th>513</th>\n",
       "      <td>17155</td>\n",
       "      <td>84</td>\n",
       "      <td>15.0</td>\n",
       "      <td>valle de uco</td>\n",
       "      <td>andeluna 2013 1300 chardonnay (uco valley)</td>\n",
       "      <td>chardonnay</td>\n",
       "      <td>andeluna</td>\n",
       "      <td>2013</td>\n",
       "      <td>promotor</td>\n",
       "      <td>mendoza</td>\n",
       "    </tr>\n",
       "    <tr>\n",
       "      <th>2151</th>\n",
       "      <td>77855</td>\n",
       "      <td>85</td>\n",
       "      <td>15.0</td>\n",
       "      <td>valle de uco</td>\n",
       "      <td>andeluna 2011 1300 chardonnay (uco valley)</td>\n",
       "      <td>chardonnay</td>\n",
       "      <td>andeluna</td>\n",
       "      <td>2011</td>\n",
       "      <td>promotor</td>\n",
       "      <td>mendoza</td>\n",
       "    </tr>\n",
       "    <tr>\n",
       "      <th>2476</th>\n",
       "      <td>90905</td>\n",
       "      <td>80</td>\n",
       "      <td>16.0</td>\n",
       "      <td>valle de uco</td>\n",
       "      <td>andeluna 2015 1300 chardonnay (valle de uco)</td>\n",
       "      <td>chardonnay</td>\n",
       "      <td>andeluna</td>\n",
       "      <td>2015</td>\n",
       "      <td>neutro</td>\n",
       "      <td>mendoza</td>\n",
       "    </tr>\n",
       "    <tr>\n",
       "      <th>2550</th>\n",
       "      <td>93677</td>\n",
       "      <td>84</td>\n",
       "      <td>15.0</td>\n",
       "      <td>valle de uco</td>\n",
       "      <td>andeluna 2012 1300 chardonnay (uco valley)</td>\n",
       "      <td>chardonnay</td>\n",
       "      <td>andeluna</td>\n",
       "      <td>2012</td>\n",
       "      <td>promotor</td>\n",
       "      <td>mendoza</td>\n",
       "    </tr>\n",
       "  </tbody>\n",
       "</table>\n",
       "</div>"
      ],
      "text/plain": [
       "      index  points  price      region_1  \\\n",
       "513   17155      84   15.0  valle de uco   \n",
       "2151  77855      85   15.0  valle de uco   \n",
       "2476  90905      80   16.0  valle de uco   \n",
       "2550  93677      84   15.0  valle de uco   \n",
       "\n",
       "                                             title     variety    winery  \\\n",
       "513     andeluna 2013 1300 chardonnay (uco valley)  chardonnay  andeluna   \n",
       "2151    andeluna 2011 1300 chardonnay (uco valley)  chardonnay  andeluna   \n",
       "2476  andeluna 2015 1300 chardonnay (valle de uco)  chardonnay  andeluna   \n",
       "2550    andeluna 2012 1300 chardonnay (uco valley)  chardonnay  andeluna   \n",
       "\n",
       "      creacion categoria province  \n",
       "513       2013  promotor  mendoza  \n",
       "2151      2011  promotor  mendoza  \n",
       "2476      2015    neutro  mendoza  \n",
       "2550      2012  promotor  mendoza  "
      ]
     },
     "execution_count": 37,
     "metadata": {},
     "output_type": "execute_result"
    }
   ],
   "source": [
    "datosDos = data[(data.variety == 'chardonnay') & \n",
    "    (data.province == 'mendoza') & \n",
    "    (data.region_1 == 'valle de uco') &\n",
    "    (data.winery == 'andeluna')]\n",
    "datosDos"
   ]
  },
  {
   "cell_type": "markdown",
   "metadata": {},
   "source": [
    "### Ya no quedan nulos"
   ]
  },
  {
   "cell_type": "code",
   "execution_count": 38,
   "metadata": {},
   "outputs": [
    {
     "data": {
      "text/plain": [
       "index        0\n",
       "points       0\n",
       "price        0\n",
       "region_1     0\n",
       "title        0\n",
       "variety      0\n",
       "winery       0\n",
       "creacion     0\n",
       "categoria    0\n",
       "province     0\n",
       "dtype: int64"
      ]
     },
     "execution_count": 38,
     "metadata": {},
     "output_type": "execute_result"
    }
   ],
   "source": [
    "data.isnull().sum()"
   ]
  },
  {
   "cell_type": "markdown",
   "metadata": {},
   "source": [
    "### Ya tengo el data set ordenado, con filas nuevas, datos completos y solo se eliminaron <span style=\"color: green\">256</span> filas duplicadas no filas unicas que tengan valores NaN"
   ]
  },
  {
   "cell_type": "code",
   "execution_count": 39,
   "metadata": {},
   "outputs": [
    {
     "data": {
      "text/plain": [
       "256"
      ]
     },
     "execution_count": 39,
     "metadata": {},
     "output_type": "execute_result"
    }
   ],
   "source": [
    "antes_de_drop - despues_de_drop"
   ]
  },
  {
   "cell_type": "code",
   "execution_count": 40,
   "metadata": {},
   "outputs": [],
   "source": [
    "data.rename(columns={'index':'id',\n",
    "                    'points':'puntaje',\n",
    "                    'price':'precio_en_pesos',\n",
    "                    'region_1':'region',\n",
    "                    'title':'titulo',\n",
    "                    'variety':'variedad',\n",
    "                    'winery':'bodega',\n",
    "                    'province':'provincia'}, \n",
    "                     inplace=True)"
   ]
  },
  {
   "cell_type": "code",
   "execution_count": 41,
   "metadata": {},
   "outputs": [
    {
     "data": {
      "text/html": [
       "<div>\n",
       "<style scoped>\n",
       "    .dataframe tbody tr th:only-of-type {\n",
       "        vertical-align: middle;\n",
       "    }\n",
       "\n",
       "    .dataframe tbody tr th {\n",
       "        vertical-align: top;\n",
       "    }\n",
       "\n",
       "    .dataframe thead th {\n",
       "        text-align: right;\n",
       "    }\n",
       "</style>\n",
       "<table border=\"1\" class=\"dataframe\">\n",
       "  <thead>\n",
       "    <tr style=\"text-align: right;\">\n",
       "      <th></th>\n",
       "      <th>id</th>\n",
       "      <th>puntaje</th>\n",
       "      <th>precio_en_pesos</th>\n",
       "      <th>region</th>\n",
       "      <th>titulo</th>\n",
       "      <th>variedad</th>\n",
       "      <th>bodega</th>\n",
       "      <th>creacion</th>\n",
       "      <th>categoria</th>\n",
       "      <th>provincia</th>\n",
       "    </tr>\n",
       "  </thead>\n",
       "  <tbody>\n",
       "    <tr>\n",
       "      <th>0</th>\n",
       "      <td>16</td>\n",
       "      <td>87</td>\n",
       "      <td>30.0</td>\n",
       "      <td>cafayate</td>\n",
       "      <td>felix lavaque 2010 felix malbec (cafayate)</td>\n",
       "      <td>malbec</td>\n",
       "      <td>felix lavaque</td>\n",
       "      <td>2010</td>\n",
       "      <td>promotor</td>\n",
       "      <td>salta</td>\n",
       "    </tr>\n",
       "    <tr>\n",
       "      <th>1</th>\n",
       "      <td>17</td>\n",
       "      <td>87</td>\n",
       "      <td>13.0</td>\n",
       "      <td>mendoza</td>\n",
       "      <td>gaucho andino 2011 winemaker selection malbec ...</td>\n",
       "      <td>malbec</td>\n",
       "      <td>gaucho andino</td>\n",
       "      <td>2011</td>\n",
       "      <td>promotor</td>\n",
       "      <td>mendoza</td>\n",
       "    </tr>\n",
       "    <tr>\n",
       "      <th>2</th>\n",
       "      <td>183</td>\n",
       "      <td>88</td>\n",
       "      <td>12.0</td>\n",
       "      <td>salta</td>\n",
       "      <td>alamos 2007 torrontes (salta)</td>\n",
       "      <td>torrontes</td>\n",
       "      <td>alamos</td>\n",
       "      <td>2007</td>\n",
       "      <td>promotor</td>\n",
       "      <td>salta</td>\n",
       "    </tr>\n",
       "    <tr>\n",
       "      <th>3</th>\n",
       "      <td>224</td>\n",
       "      <td>90</td>\n",
       "      <td>22.0</td>\n",
       "      <td>lujan de cuyo</td>\n",
       "      <td>mendel 2014 lunta malbec (lujan de cuyo)</td>\n",
       "      <td>malbec</td>\n",
       "      <td>mendel</td>\n",
       "      <td>2014</td>\n",
       "      <td>promotor</td>\n",
       "      <td>mendoza</td>\n",
       "    </tr>\n",
       "    <tr>\n",
       "      <th>4</th>\n",
       "      <td>231</td>\n",
       "      <td>85</td>\n",
       "      <td>10.0</td>\n",
       "      <td>mendoza</td>\n",
       "      <td>andean sky 2007 bonarda (mendoza)</td>\n",
       "      <td>bonarda</td>\n",
       "      <td>andean sky</td>\n",
       "      <td>2007</td>\n",
       "      <td>promotor</td>\n",
       "      <td>mendoza</td>\n",
       "    </tr>\n",
       "    <tr>\n",
       "      <th>5</th>\n",
       "      <td>245</td>\n",
       "      <td>85</td>\n",
       "      <td>12.0</td>\n",
       "      <td>san juan</td>\n",
       "      <td>finca las moras 2007 reserve chardonnay (san j...</td>\n",
       "      <td>chardonnay</td>\n",
       "      <td>finca las moras</td>\n",
       "      <td>2007</td>\n",
       "      <td>promotor</td>\n",
       "      <td>san juan</td>\n",
       "    </tr>\n",
       "    <tr>\n",
       "      <th>6</th>\n",
       "      <td>253</td>\n",
       "      <td>85</td>\n",
       "      <td>15.0</td>\n",
       "      <td>lujan de cuyo</td>\n",
       "      <td>cueva de las manos 2007 reserve malbec (lujan ...</td>\n",
       "      <td>malbec</td>\n",
       "      <td>cueva de las manos</td>\n",
       "      <td>2007</td>\n",
       "      <td>promotor</td>\n",
       "      <td>mendoza</td>\n",
       "    </tr>\n",
       "    <tr>\n",
       "      <th>7</th>\n",
       "      <td>261</td>\n",
       "      <td>89</td>\n",
       "      <td>37.0</td>\n",
       "      <td>mendoza</td>\n",
       "      <td>algodon 2008 estate blend gran reserva red</td>\n",
       "      <td>red blend</td>\n",
       "      <td>algodon</td>\n",
       "      <td>2008</td>\n",
       "      <td>promotor</td>\n",
       "      <td>mendoza</td>\n",
       "    </tr>\n",
       "    <tr>\n",
       "      <th>8</th>\n",
       "      <td>266</td>\n",
       "      <td>89</td>\n",
       "      <td>14.0</td>\n",
       "      <td>mendoza</td>\n",
       "      <td>kaiken 2008 corte malbec-bonarda-petit verdot ...</td>\n",
       "      <td>red blend</td>\n",
       "      <td>kaiken</td>\n",
       "      <td>2008</td>\n",
       "      <td>promotor</td>\n",
       "      <td>mendoza</td>\n",
       "    </tr>\n",
       "    <tr>\n",
       "      <th>9</th>\n",
       "      <td>273</td>\n",
       "      <td>89</td>\n",
       "      <td>19.0</td>\n",
       "      <td>valle de uco</td>\n",
       "      <td>o. fournier 2007 b crux red (uco valley)</td>\n",
       "      <td>red blend</td>\n",
       "      <td>o. fournier</td>\n",
       "      <td>2007</td>\n",
       "      <td>promotor</td>\n",
       "      <td>mendoza</td>\n",
       "    </tr>\n",
       "  </tbody>\n",
       "</table>\n",
       "</div>"
      ],
      "text/plain": [
       "    id  puntaje  precio_en_pesos         region  \\\n",
       "0   16       87             30.0       cafayate   \n",
       "1   17       87             13.0        mendoza   \n",
       "2  183       88             12.0          salta   \n",
       "3  224       90             22.0  lujan de cuyo   \n",
       "4  231       85             10.0        mendoza   \n",
       "5  245       85             12.0       san juan   \n",
       "6  253       85             15.0  lujan de cuyo   \n",
       "7  261       89             37.0        mendoza   \n",
       "8  266       89             14.0        mendoza   \n",
       "9  273       89             19.0   valle de uco   \n",
       "\n",
       "                                              titulo    variedad  \\\n",
       "0         felix lavaque 2010 felix malbec (cafayate)      malbec   \n",
       "1  gaucho andino 2011 winemaker selection malbec ...      malbec   \n",
       "2                      alamos 2007 torrontes (salta)   torrontes   \n",
       "3           mendel 2014 lunta malbec (lujan de cuyo)      malbec   \n",
       "4                  andean sky 2007 bonarda (mendoza)     bonarda   \n",
       "5  finca las moras 2007 reserve chardonnay (san j...  chardonnay   \n",
       "6  cueva de las manos 2007 reserve malbec (lujan ...      malbec   \n",
       "7         algodon 2008 estate blend gran reserva red   red blend   \n",
       "8  kaiken 2008 corte malbec-bonarda-petit verdot ...   red blend   \n",
       "9           o. fournier 2007 b crux red (uco valley)   red blend   \n",
       "\n",
       "               bodega  creacion categoria provincia  \n",
       "0       felix lavaque      2010  promotor     salta  \n",
       "1       gaucho andino      2011  promotor   mendoza  \n",
       "2              alamos      2007  promotor     salta  \n",
       "3              mendel      2014  promotor   mendoza  \n",
       "4          andean sky      2007  promotor   mendoza  \n",
       "5     finca las moras      2007  promotor  san juan  \n",
       "6  cueva de las manos      2007  promotor   mendoza  \n",
       "7             algodon      2008  promotor   mendoza  \n",
       "8              kaiken      2008  promotor   mendoza  \n",
       "9         o. fournier      2007  promotor   mendoza  "
      ]
     },
     "execution_count": 41,
     "metadata": {},
     "output_type": "execute_result"
    }
   ],
   "source": [
    "data.head(10)"
   ]
  },
  {
   "cell_type": "markdown",
   "metadata": {},
   "source": [
    "### Ordeno los datos en base al puntaje y al precio descendente"
   ]
  },
  {
   "cell_type": "code",
   "execution_count": 42,
   "metadata": {},
   "outputs": [],
   "source": [
    "data.sort_values(['puntaje', 'precio_en_pesos'], ascending=[False, False], inplace=True)"
   ]
  },
  {
   "cell_type": "code",
   "execution_count": 43,
   "metadata": {},
   "outputs": [
    {
     "data": {
      "text/plain": [
       "array(['malbec', 'bordeaux-style red blend', 'cabernet sauvignon-malbec',\n",
       "       'red blend', 'malbec-cabernet sauvignon', 'merlot',\n",
       "       'cabernet franc-cabernet sauvignon', 'syrah-viognier',\n",
       "       'cabernet sauvignon', 'malbec-cabernet', 'pinot noir',\n",
       "       'cabernet franc', 'cabernet blend', 'chardonnay',\n",
       "       'malbec-cabernet franc', 'petit verdot', 'malbec blend', 'bonarda',\n",
       "       'cabernet franc-malbec', 'malbec-petit verdot', 'syrah',\n",
       "       'tempranillo-malbec', 'white blend', 'malbec-merlot',\n",
       "       'malbec-bonarda', 'shiraz-malbec', 'torrontes', 'nebbiolo',\n",
       "       'malbec-syrah', 'champagne blend', 'sauvignon blanc',\n",
       "       'syrah-malbec', 'rosado', 'cabernet sauvignon-merlot', 'trousseau',\n",
       "       'sparkling blend', 'chardonnay-viognier', 'tannat',\n",
       "       'cabernet-syrah', 'semillon', 'tempranillo',\n",
       "       'cabernet sauvignon-shiraz', 'malbec-tannat',\n",
       "       'merlot-cabernet franc', 'rose', 'cabernet sauvignon-syrah',\n",
       "       'pinot gris', 'viognier', 'shiraz', 'syrah-bonarda',\n",
       "       'chenin blanc-chardonnay', 'pinot grigio', 'malbec-tempranillo',\n",
       "       'riesling', 'cabernet-malbec', 'barbera', 'tocai',\n",
       "       'chardonnay-sauvignon', 'moscato', 'gewurztraminer',\n",
       "       'cabernet sauvignon-cabernet franc', 'chenin blanc',\n",
       "       'bordeaux-style white blend', 'trebbiano', 'sangiovese',\n",
       "       'chardonnay-semillon', 'moscatel'], dtype=object)"
      ]
     },
     "execution_count": 43,
     "metadata": {},
     "output_type": "execute_result"
    }
   ],
   "source": [
    "data.variedad.unique()"
   ]
  },
  {
   "cell_type": "markdown",
   "metadata": {},
   "source": [
    "### Reemplazo las variedades que estan escritas de forma desordenada pero que son iguales a otras."
   ]
  },
  {
   "cell_type": "code",
   "execution_count": 44,
   "metadata": {},
   "outputs": [],
   "source": [
    "data.replace({'variedad' : {'malbec-cabernet sauvignon' : 'cabernet sauvignon malbec', \n",
    "                            'cabernet sauvignon-malbec' : 'cabernet sauvignon malbec',\n",
    "                            'malbec-cabernet franc' : 'cabernet franc-malbec', \n",
    "                            'malbec-cabernet'  : 'cabernet-malbec', \n",
    "                            'cabernet sauvignon-cabernet franc'  : 'cabernet franc-cabernet sauvignon'}}, inplace = True)"
   ]
  },
  {
   "cell_type": "markdown",
   "metadata": {},
   "source": [
    "### Programacion turbia para obtener un DF con el vino con mayor puntaje por cada marca, 1 por marca"
   ]
  },
  {
   "cell_type": "code",
   "execution_count": 45,
   "metadata": {},
   "outputs": [],
   "source": [
    "variedades_vinos = data.variedad.unique().tolist()"
   ]
  },
  {
   "cell_type": "code",
   "execution_count": 46,
   "metadata": {},
   "outputs": [],
   "source": [
    "arreglo = []"
   ]
  },
  {
   "cell_type": "code",
   "execution_count": 47,
   "metadata": {},
   "outputs": [],
   "source": [
    "for x in range(0, len(variedades_vinos)):\n",
    "    arreglo.append(data[data.variedad == variedades_vinos[x]].max())"
   ]
  },
  {
   "cell_type": "code",
   "execution_count": 48,
   "metadata": {},
   "outputs": [],
   "source": [
    "mejores_vinos = pd.DataFrame(arreglo)"
   ]
  },
  {
   "cell_type": "code",
   "execution_count": 49,
   "metadata": {},
   "outputs": [],
   "source": [
    "mejores_vinos.rename(columns={0 :'id',\n",
    "                    1 :'puntaje',\n",
    "                    2 :'precio_en_pesos',\n",
    "                    3 :'region',\n",
    "                    4 :'titulo',\n",
    "                    5 :'variedad',\n",
    "                    6 :'bodega',\n",
    "                    7 :'creacion',\n",
    "                    8 :'categoria',\n",
    "                    9 :'provincia'}, \n",
    "                     inplace=True)"
   ]
  },
  {
   "cell_type": "markdown",
   "metadata": {},
   "source": [
    "### Esto era por si el precio estaba en dolares pero esta en pesos asi que lo saque\n",
    "#### precio_dolar = 43.68 <br> mejores_vinos['precio_en_pesos'] = mejores_vinos['precio_en_dolares'].apply(lambda x: x * precio_dolar)<br>"
   ]
  },
  {
   "cell_type": "code",
   "execution_count": 50,
   "metadata": {},
   "outputs": [
    {
     "data": {
      "text/html": [
       "<div>\n",
       "<style scoped>\n",
       "    .dataframe tbody tr th:only-of-type {\n",
       "        vertical-align: middle;\n",
       "    }\n",
       "\n",
       "    .dataframe tbody tr th {\n",
       "        vertical-align: top;\n",
       "    }\n",
       "\n",
       "    .dataframe thead th {\n",
       "        text-align: right;\n",
       "    }\n",
       "</style>\n",
       "<table border=\"1\" class=\"dataframe\">\n",
       "  <thead>\n",
       "    <tr style=\"text-align: right;\">\n",
       "      <th></th>\n",
       "      <th>id</th>\n",
       "      <th>puntaje</th>\n",
       "      <th>precio_en_pesos</th>\n",
       "      <th>region</th>\n",
       "      <th>titulo</th>\n",
       "      <th>variedad</th>\n",
       "      <th>bodega</th>\n",
       "      <th>creacion</th>\n",
       "      <th>categoria</th>\n",
       "      <th>provincia</th>\n",
       "    </tr>\n",
       "  </thead>\n",
       "  <tbody>\n",
       "    <tr>\n",
       "      <th>0</th>\n",
       "      <td>129948</td>\n",
       "      <td>97</td>\n",
       "      <td>225.0</td>\n",
       "      <td>vista flores</td>\n",
       "      <td>zuccardi 2015 serie a malbec (valle de uco)</td>\n",
       "      <td>malbec</td>\n",
       "      <td>zuccardi</td>\n",
       "      <td>2016</td>\n",
       "      <td>promotor</td>\n",
       "      <td>san juan</td>\n",
       "    </tr>\n",
       "    <tr>\n",
       "      <th>1</th>\n",
       "      <td>128326</td>\n",
       "      <td>96</td>\n",
       "      <td>120.0</td>\n",
       "      <td>vista flores</td>\n",
       "      <td>zuccardi 2013 zeta red (uco valley)</td>\n",
       "      <td>bordeaux-style red blend</td>\n",
       "      <td>zuccardi</td>\n",
       "      <td>2014</td>\n",
       "      <td>promotor</td>\n",
       "      <td>salta</td>\n",
       "    </tr>\n",
       "    <tr>\n",
       "      <th>2</th>\n",
       "      <td>128142</td>\n",
       "      <td>95</td>\n",
       "      <td>169.0</td>\n",
       "      <td>valle de uco</td>\n",
       "      <td>zuccardi 2011 zeta malbec-cabernet sauvignon (...</td>\n",
       "      <td>cabernet sauvignon malbec</td>\n",
       "      <td>zuccardi</td>\n",
       "      <td>2015</td>\n",
       "      <td>promotor</td>\n",
       "      <td>san juan</td>\n",
       "    </tr>\n",
       "    <tr>\n",
       "      <th>3</th>\n",
       "      <td>129932</td>\n",
       "      <td>95</td>\n",
       "      <td>135.0</td>\n",
       "      <td>valle de uco</td>\n",
       "      <td>zuccardi 2012 tito red (uco valley)</td>\n",
       "      <td>red blend</td>\n",
       "      <td>zuccardi</td>\n",
       "      <td>2016</td>\n",
       "      <td>promotor</td>\n",
       "      <td>san juan</td>\n",
       "    </tr>\n",
       "    <tr>\n",
       "      <th>4</th>\n",
       "      <td>128325</td>\n",
       "      <td>94</td>\n",
       "      <td>120.0</td>\n",
       "      <td>valle de uco</td>\n",
       "      <td>zolo 2011 merlot (mendoza)</td>\n",
       "      <td>merlot</td>\n",
       "      <td>zolo</td>\n",
       "      <td>2015</td>\n",
       "      <td>promotor</td>\n",
       "      <td>rio negro</td>\n",
       "    </tr>\n",
       "    <tr>\n",
       "      <th>5</th>\n",
       "      <td>123132</td>\n",
       "      <td>94</td>\n",
       "      <td>90.0</td>\n",
       "      <td>valle de uco</td>\n",
       "      <td>ricominciare 2009 cabernet franc-cabernet sauv...</td>\n",
       "      <td>cabernet franc-cabernet sauvignon</td>\n",
       "      <td>ricominciare</td>\n",
       "      <td>2014</td>\n",
       "      <td>promotor</td>\n",
       "      <td>san juan</td>\n",
       "    </tr>\n",
       "    <tr>\n",
       "      <th>6</th>\n",
       "      <td>76584</td>\n",
       "      <td>94</td>\n",
       "      <td>75.0</td>\n",
       "      <td>mendoza</td>\n",
       "      <td>trapiche 2011 iscay syrah-viognier (mendoza)</td>\n",
       "      <td>syrah-viognier</td>\n",
       "      <td>trapiche</td>\n",
       "      <td>2011</td>\n",
       "      <td>promotor</td>\n",
       "      <td>mendoza</td>\n",
       "    </tr>\n",
       "    <tr>\n",
       "      <th>7</th>\n",
       "      <td>129617</td>\n",
       "      <td>94</td>\n",
       "      <td>230.0</td>\n",
       "      <td>vista flores</td>\n",
       "      <td>zuccardi 2013 serie a cabernet sauvignon (vall...</td>\n",
       "      <td>cabernet sauvignon</td>\n",
       "      <td>zuccardi</td>\n",
       "      <td>2016</td>\n",
       "      <td>promotor</td>\n",
       "      <td>san juan</td>\n",
       "    </tr>\n",
       "    <tr>\n",
       "      <th>8</th>\n",
       "      <td>82920</td>\n",
       "      <td>93</td>\n",
       "      <td>165.0</td>\n",
       "      <td>salta</td>\n",
       "      <td>trivento 2014 reserve cabernet-malbec (mendoza)</td>\n",
       "      <td>cabernet-malbec</td>\n",
       "      <td>trivento</td>\n",
       "      <td>2014</td>\n",
       "      <td>promotor</td>\n",
       "      <td>salta</td>\n",
       "    </tr>\n",
       "    <tr>\n",
       "      <th>9</th>\n",
       "      <td>128412</td>\n",
       "      <td>93</td>\n",
       "      <td>150.0</td>\n",
       "      <td>vista flores</td>\n",
       "      <td>zorzal 2015 eggo filoso pinot noir (tupungato)</td>\n",
       "      <td>pinot noir</td>\n",
       "      <td>zorzal</td>\n",
       "      <td>2016</td>\n",
       "      <td>promotor</td>\n",
       "      <td>salta</td>\n",
       "    </tr>\n",
       "  </tbody>\n",
       "</table>\n",
       "</div>"
      ],
      "text/plain": [
       "       id  puntaje  precio_en_pesos        region  \\\n",
       "0  129948       97            225.0  vista flores   \n",
       "1  128326       96            120.0  vista flores   \n",
       "2  128142       95            169.0  valle de uco   \n",
       "3  129932       95            135.0  valle de uco   \n",
       "4  128325       94            120.0  valle de uco   \n",
       "5  123132       94             90.0  valle de uco   \n",
       "6   76584       94             75.0       mendoza   \n",
       "7  129617       94            230.0  vista flores   \n",
       "8   82920       93            165.0         salta   \n",
       "9  128412       93            150.0  vista flores   \n",
       "\n",
       "                                              titulo  \\\n",
       "0        zuccardi 2015 serie a malbec (valle de uco)   \n",
       "1                zuccardi 2013 zeta red (uco valley)   \n",
       "2  zuccardi 2011 zeta malbec-cabernet sauvignon (...   \n",
       "3                zuccardi 2012 tito red (uco valley)   \n",
       "4                         zolo 2011 merlot (mendoza)   \n",
       "5  ricominciare 2009 cabernet franc-cabernet sauv...   \n",
       "6       trapiche 2011 iscay syrah-viognier (mendoza)   \n",
       "7  zuccardi 2013 serie a cabernet sauvignon (vall...   \n",
       "8    trivento 2014 reserve cabernet-malbec (mendoza)   \n",
       "9     zorzal 2015 eggo filoso pinot noir (tupungato)   \n",
       "\n",
       "                            variedad        bodega  creacion categoria  \\\n",
       "0                             malbec      zuccardi      2016  promotor   \n",
       "1           bordeaux-style red blend      zuccardi      2014  promotor   \n",
       "2          cabernet sauvignon malbec      zuccardi      2015  promotor   \n",
       "3                          red blend      zuccardi      2016  promotor   \n",
       "4                             merlot          zolo      2015  promotor   \n",
       "5  cabernet franc-cabernet sauvignon  ricominciare      2014  promotor   \n",
       "6                     syrah-viognier      trapiche      2011  promotor   \n",
       "7                 cabernet sauvignon      zuccardi      2016  promotor   \n",
       "8                    cabernet-malbec      trivento      2014  promotor   \n",
       "9                         pinot noir        zorzal      2016  promotor   \n",
       "\n",
       "   provincia  \n",
       "0   san juan  \n",
       "1      salta  \n",
       "2   san juan  \n",
       "3   san juan  \n",
       "4  rio negro  \n",
       "5   san juan  \n",
       "6    mendoza  \n",
       "7   san juan  \n",
       "8      salta  \n",
       "9      salta  "
      ]
     },
     "execution_count": 50,
     "metadata": {},
     "output_type": "execute_result"
    }
   ],
   "source": [
    "mejores_vinos.head(10)"
   ]
  },
  {
   "cell_type": "markdown",
   "metadata": {},
   "source": [
    "### No soy conocedor de vinos asi que tuve que googlear cual era la diferencia entre cabernet sauvignon malbec y cabernet-malbec o cabernet sauvignon asi encontre esto por lo que decidi no modificar esas variedades<br> El Cabernet Sauvignon es el vino tinto conocido en todo el mundo. Variedad que predomina en los vinos Burdeaux de Francia. Sus principales características son: tánico y seco, y en muchas ocasiones con la finalidad de ablandarlo se mezcla con <span style=\"color: red\">Merlot</span>, <span style=\"color: red\">Malbec</span> u otras variedades."
   ]
  },
  {
   "cell_type": "code",
   "execution_count": null,
   "metadata": {},
   "outputs": [],
   "source": []
  }
 ],
 "metadata": {
  "kernelspec": {
   "display_name": "Python 3",
   "language": "python",
   "name": "python3"
  },
  "language_info": {
   "codemirror_mode": {
    "name": "ipython",
    "version": 3
   },
   "file_extension": ".py",
   "mimetype": "text/x-python",
   "name": "python",
   "nbconvert_exporter": "python",
   "pygments_lexer": "ipython3",
   "version": "3.7.1"
  }
 },
 "nbformat": 4,
 "nbformat_minor": 2
}
