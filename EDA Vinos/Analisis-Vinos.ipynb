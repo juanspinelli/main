{
 "cells": [
  {
   "cell_type": "markdown",
   "metadata": {},
   "source": [
    "### Importo las librerias a usar"
   ]
  },
  {
   "cell_type": "code",
   "execution_count": 1,
   "metadata": {},
   "outputs": [],
   "source": [
    "import pandas as pd\n",
    "import numpy as np\n",
    "import chardet\n",
    "import  seaborn as sns\n",
    "import matplotlib.pyplot as plt\n",
    "import unicodedata\n",
    "%matplotlib inline"
   ]
  },
  {
   "cell_type": "markdown",
   "metadata": {},
   "source": [
    "### Dataset\n",
    "Link a dataset: https://www.kaggle.com/zynicide/wine-reviews"
   ]
  },
  {
   "cell_type": "code",
   "execution_count": 2,
   "metadata": {},
   "outputs": [],
   "source": [
    "data = pd.read_csv('wine.csv')"
   ]
  },
  {
   "cell_type": "markdown",
   "metadata": {},
   "source": [
    "### Creo un dataset con todos los datos de Argentina y dejo solo las columnas que voy  usar"
   ]
  },
  {
   "cell_type": "code",
   "execution_count": 3,
   "metadata": {},
   "outputs": [],
   "source": [
    "data = data[data.country == 'Argentina']\n",
    "columnas = data.columns.tolist()\n",
    "columnas_innecesarias = [\"Unnamed: 0\", \"country\", \"description\", \"designation\", \"taster_name\", \"taster_twitter_handle\", \"region_2\"]\n",
    "subconjunto_lista_filtrada = [x for x in columnas if x not in columnas_innecesarias]\n",
    "data = data[subconjunto_lista_filtrada]"
   ]
  },
  {
   "cell_type": "markdown",
   "metadata": {},
   "source": [
    "### Verifico si hay valores nulos"
   ]
  },
  {
   "cell_type": "code",
   "execution_count": 4,
   "metadata": {},
   "outputs": [
    {
     "data": {
      "text/plain": [
       "points       0\n",
       "price       44\n",
       "province     0\n",
       "region_1    53\n",
       "title        0\n",
       "variety      0\n",
       "winery       0\n",
       "dtype: int64"
      ]
     },
     "execution_count": 4,
     "metadata": {},
     "output_type": "execute_result"
    }
   ],
   "source": [
    "data.isnull().sum()"
   ]
  },
  {
   "cell_type": "code",
   "execution_count": 5,
   "metadata": {},
   "outputs": [],
   "source": [
    "antes_de_drop = data.shape[0]"
   ]
  },
  {
   "cell_type": "markdown",
   "metadata": {},
   "source": [
    "### Elimino las filas duplicadas"
   ]
  },
  {
   "cell_type": "code",
   "execution_count": 6,
   "metadata": {},
   "outputs": [],
   "source": [
    "data = data.drop_duplicates()\n",
    "\n",
    "despues_de_drop = data.shape[0]\n",
    "data = data.reset_index()"
   ]
  },
  {
   "cell_type": "markdown",
   "metadata": {},
   "source": [
    "### Creo el campo creacion que va a contener el año en que se creo el vino (Se obtiene del title)"
   ]
  },
  {
   "cell_type": "code",
   "execution_count": 7,
   "metadata": {},
   "outputs": [],
   "source": [
    "data[\"creacion\"] = data.title.str.extract(r\"\\b(19\\d\\d|20[01]\\d)\\b\", expand=False)"
   ]
  },
  {
   "cell_type": "markdown",
   "metadata": {},
   "source": [
    "### Completo los vacios en creacion (el titulo no tenia año) con un 0 <br> Completo las regiones NaN con '' <br> Cambio el dato de creacion de string a int"
   ]
  },
  {
   "cell_type": "code",
   "execution_count": 8,
   "metadata": {},
   "outputs": [],
   "source": [
    "data.creacion = data.creacion.fillna(value=0)\n",
    "data.region_1 = data.region_1.fillna(value= '')\n",
    "data.creacion = data.creacion.astype(int)"
   ]
  },
  {
   "cell_type": "markdown",
   "metadata": {},
   "source": [
    "### Creo el campo categoria donde hay 3 tipos segun el puntaje del vino <br> <span style=\"color: red\">0 <= 60 --- Detractor</span> <br> <span style=\"color: orange\">61 <= 80 --- Neutro</span> <br> <span style=\"color: green\">81 <= 100 --- Promotor</span>"
   ]
  },
  {
   "cell_type": "code",
   "execution_count": 9,
   "metadata": {},
   "outputs": [],
   "source": [
    "for i in range(0, len(data)):\n",
    "    if 0 <= data.loc[i, 'points'] <= 60:\n",
    "        data.loc[i,'categoria'] = 'Detractor'\n",
    "    elif 61 <= data.loc[i, 'points'] <= 80:\n",
    "        data.loc[i,'categoria'] = 'Neutro'\n",
    "    elif 81 <= data.loc[i, 'points'] <= 100:\n",
    "        data.loc[i,'categoria'] = 'Promotor'\n",
    "    else:\n",
    "        data.loc[i,'categoria'] = ''"
   ]
  },
  {
   "cell_type": "markdown",
   "metadata": {},
   "source": [
    "### Verifico cada una de las columnas, si el tipo es 0 (string) le limpio los carecteres especiales, le saco las tildes y los paso a minuscula"
   ]
  },
  {
   "cell_type": "code",
   "execution_count": 10,
   "metadata": {},
   "outputs": [],
   "source": [
    "for x in range (0, len(data.columns)):\n",
    "    if data.dtypes[x] == 'O':\n",
    "        data[data.columns[x]] = data[data.columns[x]].str.lower().str.strip()\n",
    "        data[data.columns[x]] = data[data.columns[x]].str.normalize('NFKD').str.encode('ascii', errors='ignore').str.decode('utf-8') "
   ]
  },
  {
   "cell_type": "markdown",
   "metadata": {},
   "source": [
    "### Muestro cuantos datos habia y cuantos quedaron luego de eliminar las filas duplicadas"
   ]
  },
  {
   "cell_type": "code",
   "execution_count": 11,
   "metadata": {},
   "outputs": [
    {
     "data": {
      "text/plain": [
       "(3800, 3544)"
      ]
     },
     "execution_count": 11,
     "metadata": {},
     "output_type": "execute_result"
    }
   ],
   "source": [
    "antes_de_drop, despues_de_drop"
   ]
  },
  {
   "cell_type": "markdown",
   "metadata": {},
   "source": [
    "### Verifico las regiones y provincias"
   ]
  },
  {
   "cell_type": "code",
   "execution_count": 12,
   "metadata": {},
   "outputs": [
    {
     "data": {
      "text/plain": [
       "array(['cafayate', 'mendoza', 'salta', 'lujan de cuyo', 'san juan', '',\n",
       "       'uco valley', 'perdriel', 'tupungato', 'valle de uco',\n",
       "       'calchaqui valley', 'vista flores', 'maipu', 'patagonia',\n",
       "       'alto valle del rio negro', 'la consulta', 'agrelo', 'neuquen',\n",
       "       'rio negro valley', 'la rioja', 'famatina valley', 'argentina',\n",
       "       'tulum valley', 'buenos aires', 'jujuy', 'san carlos',\n",
       "       'pedernal valley', 'zonda valley', 'medrano', 'altos de mendoza',\n",
       "       'san rafael', 'catamarca'], dtype=object)"
      ]
     },
     "execution_count": 12,
     "metadata": {},
     "output_type": "execute_result"
    }
   ],
   "source": [
    "data.region_1.unique()"
   ]
  },
  {
   "cell_type": "code",
   "execution_count": 13,
   "metadata": {},
   "outputs": [
    {
     "data": {
      "text/plain": [
       "array(['other', 'mendoza province'], dtype=object)"
      ]
     },
     "execution_count": 13,
     "metadata": {},
     "output_type": "execute_result"
    }
   ],
   "source": [
    "data.province.unique()"
   ]
  },
  {
   "cell_type": "markdown",
   "metadata": {},
   "source": [
    "### Cambio la provincia mendoza province a mendoza"
   ]
  },
  {
   "cell_type": "code",
   "execution_count": 14,
   "metadata": {},
   "outputs": [],
   "source": [
    "data.province = data.province.str.replace('mendoza province', 'mendoza')"
   ]
  },
  {
   "cell_type": "markdown",
   "metadata": {},
   "source": [
    "### Cambio las regiones que estan en ingles a castellano"
   ]
  },
  {
   "cell_type": "code",
   "execution_count": 15,
   "metadata": {},
   "outputs": [],
   "source": [
    "data.replace({'region_1' : { 'uco valley' : 'valle de uco', 'calchaqui valley' : 'valle calchaqui', \n",
    "                            'rio negro valley' : 'alto valle del rio negro', \n",
    "                            'famatina valley'  : 'valle de famatina', 'tulum valley'  : 'oasis del tulum',\n",
    "                            'pedernal valley'  : 'valle de pedernal', 'zonda valley'  : 'oasis de zonda' }}, inplace = True)"
   ]
  },
  {
   "cell_type": "markdown",
   "metadata": {},
   "source": [
    "### Me fijo que las regiones hayan quedado ok"
   ]
  },
  {
   "cell_type": "code",
   "execution_count": 16,
   "metadata": {},
   "outputs": [
    {
     "data": {
      "text/plain": [
       "array(['cafayate', 'mendoza', 'salta', 'lujan de cuyo', 'san juan', '',\n",
       "       'valle de uco', 'perdriel', 'tupungato', 'valle calchaqui',\n",
       "       'vista flores', 'maipu', 'patagonia', 'alto valle del rio negro',\n",
       "       'la consulta', 'agrelo', 'neuquen', 'la rioja',\n",
       "       'valle de famatina', 'argentina', 'oasis del tulum',\n",
       "       'buenos aires', 'jujuy', 'san carlos', 'valle de pedernal',\n",
       "       'oasis de zonda', 'medrano', 'altos de mendoza', 'san rafael',\n",
       "       'catamarca'], dtype=object)"
      ]
     },
     "execution_count": 16,
     "metadata": {},
     "output_type": "execute_result"
    }
   ],
   "source": [
    "data.region_1.unique()"
   ]
  },
  {
   "cell_type": "markdown",
   "metadata": {},
   "source": [
    "### Una de las regiones es Argentina <br> Usando la vineria puedo obtener de que provincias son por lo que armo dos listas con las provincias y vinerias unicas donde la region sea argentina <br> Luego con un for voy recorriendo y donde la region era Argentina lo reemplazo por la provincia donde esta la vineria"
   ]
  },
  {
   "cell_type": "code",
   "execution_count": 17,
   "metadata": {},
   "outputs": [],
   "source": [
    "lista_provincia = ['cordoba','mendoza','mendoza','mendoza','neuquen','mendoza','mendoza','mendoza','mendoza','mendoza','catamarca','san juan','mendoza','mendoza','mendoza','mendoza','mendoza']\n",
    "lista_vineria = ['bodega las canitas','haarth','terrazas de los andes','san huberto','familia schroeder','rutini','mendoza vineyards','aguijon de abeja','cave extreme','ruca malen','alto 3','finca las moras','casa de campo','battle axe','lost vineyards','staphyle','trapiche']"
   ]
  },
  {
   "cell_type": "code",
   "execution_count": 18,
   "metadata": {},
   "outputs": [],
   "source": [
    "for x in range (0, len(lista_provincia)):\n",
    "    for i in range(0, len(data)):\n",
    "        if data.winery[i] == lista_vineria[x]:\n",
    "            data.loc[i,'region_1'] = lista_provincia[x]"
   ]
  },
  {
   "cell_type": "markdown",
   "metadata": {},
   "source": [
    "### Hay provincia llamada other por lo que al tener ya las regiones completas reemplazo ese other por la region que le corresponde"
   ]
  },
  {
   "cell_type": "code",
   "execution_count": 19,
   "metadata": {},
   "outputs": [],
   "source": [
    "for x in range (0, len(data)):\n",
    "    if data.province[x] == 'other':\n",
    "        data.loc[x,'province'] = data.region_1[x]"
   ]
  },
  {
   "cell_type": "markdown",
   "metadata": {},
   "source": [
    "### Hay algunas regiones vacias por lo que las reemplazo por la provincia que le corresponde"
   ]
  },
  {
   "cell_type": "code",
   "execution_count": 20,
   "metadata": {},
   "outputs": [],
   "source": [
    "for x in range(0, len(data)):\n",
    "    if data.region_1[x] == '':\n",
    "        data.loc[x,'region_1'] = data.loc[x,'province']"
   ]
  },
  {
   "cell_type": "markdown",
   "metadata": {},
   "source": [
    "### Hay provincias que estan con el dato de la region como por ejemplo Cafayate cuando tiene que ser Salta. <br> Ya que tengo las regiones completas elimino la columna provincia"
   ]
  },
  {
   "cell_type": "code",
   "execution_count": 21,
   "metadata": {},
   "outputs": [],
   "source": [
    "data.drop('province', axis=1, inplace=True)"
   ]
  },
  {
   "cell_type": "markdown",
   "metadata": {},
   "source": [
    "### Creo un mapeo donde detallo a que provincia corresponden las regiones que salen en las provincias"
   ]
  },
  {
   "cell_type": "code",
   "execution_count": 22,
   "metadata": {},
   "outputs": [],
   "source": [
    "mapeo = {\n",
    "    'cafayate' : 'salta',\n",
    "    'lujan de cuyo'\t: 'mendoza',\n",
    "    'valle de uco' : 'mendoza',\n",
    "    'perdriel' : 'mendoza',\n",
    "    'tupungato'\t: 'mendoza',\n",
    "    'valle calchaqui' : 'valle calchaqui',\n",
    "    'vista flores' : 'mendoza',\n",
    "    'maipu'\t: 'maipu',\n",
    "    'patagonia'\t: 'patagonia',\n",
    "    'alto valle del rio negro' : 'rio negro',\n",
    "    'la consulta' : 'mendoza',\n",
    "    'agrelo' : 'mendoza',\n",
    "    'valle de famatina'\t: 'la rioja',\n",
    "    'oasis del tulum' : 'san juan',\n",
    "    'san carlos' : 'salta',\n",
    "    'oasis de zonda' : 'san juan',\n",
    "    'medrano' : 'mendoza',\n",
    "    'valle de pedernal'\t: 'san juan',\n",
    "    'altos de mendoza' : 'mendoza',\n",
    "    'san rafael' : 'mendoza',\n",
    "    'mendoza' : 'mendoza',\n",
    "    'salta' : 'salta',\n",
    "    'san juan' : 'san juan',\n",
    "    'neuquen' : 'neuquen',\n",
    "    'la rioja' : 'la rioja',\n",
    "    'cordoba' : 'cordoba',\n",
    "    'jujuy' : 'jujuy',\n",
    "    'catamarca' : 'catamarca'\n",
    "}"
   ]
  },
  {
   "cell_type": "markdown",
   "metadata": {},
   "source": [
    "### Y con ese diccionario hago un map creando la columna provincia"
   ]
  },
  {
   "cell_type": "code",
   "execution_count": 23,
   "metadata": {},
   "outputs": [],
   "source": [
    "data['province'] = data['region_1'].map(mapeo)"
   ]
  },
  {
   "cell_type": "markdown",
   "metadata": {},
   "source": [
    "### Ahora ya tengo las provincias y las regiones bien <br> Ej: Si es region Cafayate es provincia Salta"
   ]
  },
  {
   "cell_type": "code",
   "execution_count": 24,
   "metadata": {},
   "outputs": [
    {
     "data": {
      "text/html": [
       "<div>\n",
       "<style scoped>\n",
       "    .dataframe tbody tr th:only-of-type {\n",
       "        vertical-align: middle;\n",
       "    }\n",
       "\n",
       "    .dataframe tbody tr th {\n",
       "        vertical-align: top;\n",
       "    }\n",
       "\n",
       "    .dataframe thead th {\n",
       "        text-align: right;\n",
       "    }\n",
       "</style>\n",
       "<table border=\"1\" class=\"dataframe\">\n",
       "  <thead>\n",
       "    <tr style=\"text-align: right;\">\n",
       "      <th></th>\n",
       "      <th>index</th>\n",
       "      <th>points</th>\n",
       "      <th>price</th>\n",
       "      <th>region_1</th>\n",
       "      <th>title</th>\n",
       "      <th>variety</th>\n",
       "      <th>winery</th>\n",
       "      <th>creacion</th>\n",
       "      <th>categoria</th>\n",
       "      <th>province</th>\n",
       "    </tr>\n",
       "  </thead>\n",
       "  <tbody>\n",
       "    <tr>\n",
       "      <th>0</th>\n",
       "      <td>16</td>\n",
       "      <td>87</td>\n",
       "      <td>30.0</td>\n",
       "      <td>cafayate</td>\n",
       "      <td>felix lavaque 2010 felix malbec (cafayate)</td>\n",
       "      <td>malbec</td>\n",
       "      <td>felix lavaque</td>\n",
       "      <td>2010</td>\n",
       "      <td>promotor</td>\n",
       "      <td>salta</td>\n",
       "    </tr>\n",
       "    <tr>\n",
       "      <th>1</th>\n",
       "      <td>17</td>\n",
       "      <td>87</td>\n",
       "      <td>13.0</td>\n",
       "      <td>mendoza</td>\n",
       "      <td>gaucho andino 2011 winemaker selection malbec ...</td>\n",
       "      <td>malbec</td>\n",
       "      <td>gaucho andino</td>\n",
       "      <td>2011</td>\n",
       "      <td>promotor</td>\n",
       "      <td>mendoza</td>\n",
       "    </tr>\n",
       "    <tr>\n",
       "      <th>2</th>\n",
       "      <td>183</td>\n",
       "      <td>88</td>\n",
       "      <td>12.0</td>\n",
       "      <td>salta</td>\n",
       "      <td>alamos 2007 torrontes (salta)</td>\n",
       "      <td>torrontes</td>\n",
       "      <td>alamos</td>\n",
       "      <td>2007</td>\n",
       "      <td>promotor</td>\n",
       "      <td>salta</td>\n",
       "    </tr>\n",
       "    <tr>\n",
       "      <th>3</th>\n",
       "      <td>224</td>\n",
       "      <td>90</td>\n",
       "      <td>22.0</td>\n",
       "      <td>lujan de cuyo</td>\n",
       "      <td>mendel 2014 lunta malbec (lujan de cuyo)</td>\n",
       "      <td>malbec</td>\n",
       "      <td>mendel</td>\n",
       "      <td>2014</td>\n",
       "      <td>promotor</td>\n",
       "      <td>mendoza</td>\n",
       "    </tr>\n",
       "    <tr>\n",
       "      <th>4</th>\n",
       "      <td>231</td>\n",
       "      <td>85</td>\n",
       "      <td>10.0</td>\n",
       "      <td>mendoza</td>\n",
       "      <td>andean sky 2007 bonarda (mendoza)</td>\n",
       "      <td>bonarda</td>\n",
       "      <td>andean sky</td>\n",
       "      <td>2007</td>\n",
       "      <td>promotor</td>\n",
       "      <td>mendoza</td>\n",
       "    </tr>\n",
       "    <tr>\n",
       "      <th>5</th>\n",
       "      <td>245</td>\n",
       "      <td>85</td>\n",
       "      <td>12.0</td>\n",
       "      <td>san juan</td>\n",
       "      <td>finca las moras 2007 reserve chardonnay (san j...</td>\n",
       "      <td>chardonnay</td>\n",
       "      <td>finca las moras</td>\n",
       "      <td>2007</td>\n",
       "      <td>promotor</td>\n",
       "      <td>san juan</td>\n",
       "    </tr>\n",
       "    <tr>\n",
       "      <th>6</th>\n",
       "      <td>253</td>\n",
       "      <td>85</td>\n",
       "      <td>15.0</td>\n",
       "      <td>lujan de cuyo</td>\n",
       "      <td>cueva de las manos 2007 reserve malbec (lujan ...</td>\n",
       "      <td>malbec</td>\n",
       "      <td>cueva de las manos</td>\n",
       "      <td>2007</td>\n",
       "      <td>promotor</td>\n",
       "      <td>mendoza</td>\n",
       "    </tr>\n",
       "    <tr>\n",
       "      <th>7</th>\n",
       "      <td>261</td>\n",
       "      <td>89</td>\n",
       "      <td>37.0</td>\n",
       "      <td>mendoza</td>\n",
       "      <td>algodon 2008 estate blend gran reserva red</td>\n",
       "      <td>red blend</td>\n",
       "      <td>algodon</td>\n",
       "      <td>2008</td>\n",
       "      <td>promotor</td>\n",
       "      <td>mendoza</td>\n",
       "    </tr>\n",
       "    <tr>\n",
       "      <th>8</th>\n",
       "      <td>266</td>\n",
       "      <td>89</td>\n",
       "      <td>14.0</td>\n",
       "      <td>mendoza</td>\n",
       "      <td>kaiken 2008 corte malbec-bonarda-petit verdot ...</td>\n",
       "      <td>red blend</td>\n",
       "      <td>kaiken</td>\n",
       "      <td>2008</td>\n",
       "      <td>promotor</td>\n",
       "      <td>mendoza</td>\n",
       "    </tr>\n",
       "    <tr>\n",
       "      <th>9</th>\n",
       "      <td>273</td>\n",
       "      <td>89</td>\n",
       "      <td>19.0</td>\n",
       "      <td>valle de uco</td>\n",
       "      <td>o. fournier 2007 b crux red (uco valley)</td>\n",
       "      <td>red blend</td>\n",
       "      <td>o. fournier</td>\n",
       "      <td>2007</td>\n",
       "      <td>promotor</td>\n",
       "      <td>mendoza</td>\n",
       "    </tr>\n",
       "  </tbody>\n",
       "</table>\n",
       "</div>"
      ],
      "text/plain": [
       "   index  points  price       region_1  \\\n",
       "0     16      87   30.0       cafayate   \n",
       "1     17      87   13.0        mendoza   \n",
       "2    183      88   12.0          salta   \n",
       "3    224      90   22.0  lujan de cuyo   \n",
       "4    231      85   10.0        mendoza   \n",
       "5    245      85   12.0       san juan   \n",
       "6    253      85   15.0  lujan de cuyo   \n",
       "7    261      89   37.0        mendoza   \n",
       "8    266      89   14.0        mendoza   \n",
       "9    273      89   19.0   valle de uco   \n",
       "\n",
       "                                               title     variety  \\\n",
       "0         felix lavaque 2010 felix malbec (cafayate)      malbec   \n",
       "1  gaucho andino 2011 winemaker selection malbec ...      malbec   \n",
       "2                      alamos 2007 torrontes (salta)   torrontes   \n",
       "3           mendel 2014 lunta malbec (lujan de cuyo)      malbec   \n",
       "4                  andean sky 2007 bonarda (mendoza)     bonarda   \n",
       "5  finca las moras 2007 reserve chardonnay (san j...  chardonnay   \n",
       "6  cueva de las manos 2007 reserve malbec (lujan ...      malbec   \n",
       "7         algodon 2008 estate blend gran reserva red   red blend   \n",
       "8  kaiken 2008 corte malbec-bonarda-petit verdot ...   red blend   \n",
       "9           o. fournier 2007 b crux red (uco valley)   red blend   \n",
       "\n",
       "               winery  creacion categoria  province  \n",
       "0       felix lavaque      2010  promotor     salta  \n",
       "1       gaucho andino      2011  promotor   mendoza  \n",
       "2              alamos      2007  promotor     salta  \n",
       "3              mendel      2014  promotor   mendoza  \n",
       "4          andean sky      2007  promotor   mendoza  \n",
       "5     finca las moras      2007  promotor  san juan  \n",
       "6  cueva de las manos      2007  promotor   mendoza  \n",
       "7             algodon      2008  promotor   mendoza  \n",
       "8              kaiken      2008  promotor   mendoza  \n",
       "9         o. fournier      2007  promotor   mendoza  "
      ]
     },
     "execution_count": 24,
     "metadata": {},
     "output_type": "execute_result"
    }
   ],
   "source": [
    "data.head(10)"
   ]
  },
  {
   "cell_type": "markdown",
   "metadata": {},
   "source": [
    "### Verifico las provincias unicas para ver si esta todo ok <br> Encuentro 3 provincias que hay que arreglar ya que no son provincias: Valle Calchaqui, Maipu, Patagonia"
   ]
  },
  {
   "cell_type": "code",
   "execution_count": 25,
   "metadata": {},
   "outputs": [
    {
     "data": {
      "text/plain": [
       "array(['salta', 'mendoza', 'san juan', 'valle calchaqui', 'maipu',\n",
       "       'patagonia', 'rio negro', 'neuquen', 'la rioja', 'cordoba',\n",
       "       'jujuy', 'catamarca'], dtype=object)"
      ]
     },
     "execution_count": 25,
     "metadata": {},
     "output_type": "execute_result"
    }
   ],
   "source": [
    "data.province.unique()"
   ]
  },
  {
   "cell_type": "markdown",
   "metadata": {},
   "source": [
    "### Busco todas las vinerias de esas 3 provincias <br> Googleo de donde son (unas 42)"
   ]
  },
  {
   "cell_type": "code",
   "execution_count": 26,
   "metadata": {},
   "outputs": [],
   "source": [
    "vineria_provincia = ['aniello','humberto canale','bodega chacra','bodega noemia de patagonia','bodega nqn','bodega patritti','denario','ruta 22','alpataco','bodega del fin del mundo','fabre montmayou','nemesio','restivo','schroeder estate','bodegas fabre','manos negras','southern edge','valle azul','nieto senetiner','infinitus','verum','aymara','bodega don bosco','pascual toso','luigi bosca','tercos','viamonte','coiron','palo alto','finca los olmos','zuccardi','el esteco','michel torino','colome','amalaya','inca','bodega tacuil']\n",
    "provincia_vineria = ['rio negro','rio negro','rio negro','rio negro','neuquen','neuquen','rio negro','mendoza','neuquen','neuquen','mendoza','neuquen','mendoza','neuquen','mendoza','mendoza','neuquen','mendoza','mendoza','rio negro','rio negro','mendoza','mendoza','mendoza','mendoza','mendoza','mendoza','mendoza','mendoza','mendoza','mendoza','salta','salta','salta','salta','salta','salta']"
   ]
  },
  {
   "cell_type": "markdown",
   "metadata": {},
   "source": [
    "### Ahora recorriendo si la vineria es igual a la vineria_provincia lo que hago es reemplazar la provincia por la posicion que corresponda en provincia_vineria <br> Ej la posicion 0 es vineria aniello como es igual a la primer posicion de vineria_provincia a data.provincia en la posicion 0 la relleno con la provincia_vineria en al posicion 0 o sea: Rio Negro"
   ]
  },
  {
   "cell_type": "code",
   "execution_count": 27,
   "metadata": {},
   "outputs": [],
   "source": [
    "for x in range (0, len(vineria_provincia)):\n",
    "    for i in range(0, len(data)):\n",
    "        if data.winery[i] == vineria_provincia[x]:\n",
    "            data.loc[i,'province'] = provincia_vineria[x]"
   ]
  },
  {
   "cell_type": "markdown",
   "metadata": {},
   "source": [
    "### Ahora al verificar las provincias vemos que esta todo ok"
   ]
  },
  {
   "cell_type": "code",
   "execution_count": 28,
   "metadata": {},
   "outputs": [
    {
     "data": {
      "text/plain": [
       "array(['salta', 'mendoza', 'san juan', 'rio negro', 'neuquen', 'la rioja',\n",
       "       'cordoba', 'jujuy', 'catamarca'], dtype=object)"
      ]
     },
     "execution_count": 28,
     "metadata": {},
     "output_type": "execute_result"
    }
   ],
   "source": [
    "data.province.unique()"
   ]
  },
  {
   "cell_type": "markdown",
   "metadata": {},
   "source": [
    "### Verifico los nulos"
   ]
  },
  {
   "cell_type": "code",
   "execution_count": 29,
   "metadata": {},
   "outputs": [
    {
     "data": {
      "text/plain": [
       "index         0\n",
       "points        0\n",
       "price        43\n",
       "region_1      0\n",
       "title         0\n",
       "variety       0\n",
       "winery        0\n",
       "creacion      0\n",
       "categoria     0\n",
       "province      0\n",
       "dtype: int64"
      ]
     },
     "execution_count": 29,
     "metadata": {},
     "output_type": "execute_result"
    }
   ],
   "source": [
    "data.isnull().sum()"
   ]
  },
  {
   "cell_type": "markdown",
   "metadata": {},
   "source": [
    "### Completo todos los precios nulos con 0, al ser float los rellena con 0.0"
   ]
  },
  {
   "cell_type": "code",
   "execution_count": 30,
   "metadata": {},
   "outputs": [],
   "source": [
    "data.price = data.price.fillna(value=0)"
   ]
  },
  {
   "cell_type": "markdown",
   "metadata": {},
   "source": [
    "### Para obtener un precio a rellenar lo que hago es ir recorriendo todas las filas donde el precio sea igual a 0.0 y creo una variable donde van a estar todos los precios de los vinos segun variedad, provincia, region_1 y vineria y de eso obtengo la media y relleno el precio segun corresponda <br> Ej: Si la variedad es Malbec, la provincia es Mendoza, la region es Cafayate y la vineria es Felix Lavaque, la media del precio de todos los vinos que cumplan con esas condiciones va a ser el dato con el que voy a rellenar los price 0.0 donde todos los otros campos cumplan las mismas condiciones"
   ]
  },
  {
   "cell_type": "code",
   "execution_count": 31,
   "metadata": {},
   "outputs": [],
   "source": [
    "for x in range(0, len(data)):\n",
    "    if data.price[x] == 0.0:\n",
    "        variedad = data[data.variety == data.variety[x]]\n",
    "        variedad_provincia = variedad[variedad.province == data.province[x]]\n",
    "        variedad_provincia_region = variedad_provincia[variedad_provincia.region_1 == data.region_1[x]]\n",
    "        variedad_provincia_vineria = variedad_provincia.price[variedad_provincia.winery == data.winery[x]]\n",
    "        data.loc[x,'price'] = variedad_provincia_vineria.median()"
   ]
  },
  {
   "cell_type": "markdown",
   "metadata": {},
   "source": [
    "### Quedan 4 valores sueltos con valor 0.0 ya que no tienen un precio y no hay otros con esa vineria y variedad <br> Por lo que para llenar estos ultimos hago lo mismo que arriba solo que poniendo menos condiciones solo basandome en la provincia y la variedad <br> Por ejemplo si alguno de estos 4 es Malbec, Mendoza, cambo el 0.0 por la media de todos los vinos Malbec de Mendoza"
   ]
  },
  {
   "cell_type": "code",
   "execution_count": 32,
   "metadata": {},
   "outputs": [],
   "source": [
    "for x in range(0, len(data)):\n",
    "    if data.price[x] == 0.0:\n",
    "        provincia = data[data.province == data.province[x]]\n",
    "        provincia_variety = provincia.price[provincia.variety == data.variety[x]]\n",
    "        data.loc[x,'price'] = provincia_variety.median()"
   ]
  },
  {
   "cell_type": "markdown",
   "metadata": {},
   "source": [
    "### Ya no quedan nulos"
   ]
  },
  {
   "cell_type": "code",
   "execution_count": 33,
   "metadata": {},
   "outputs": [
    {
     "data": {
      "text/plain": [
       "index        0\n",
       "points       0\n",
       "price        0\n",
       "region_1     0\n",
       "title        0\n",
       "variety      0\n",
       "winery       0\n",
       "creacion     0\n",
       "categoria    0\n",
       "province     0\n",
       "dtype: int64"
      ]
     },
     "execution_count": 33,
     "metadata": {},
     "output_type": "execute_result"
    }
   ],
   "source": [
    "data.isnull().sum()"
   ]
  },
  {
   "cell_type": "markdown",
   "metadata": {},
   "source": [
    "### Ya tengo el data set ordenado, con filas nuevas, datos completos y solo se eliminaron <span style=\"color: green\">256</span> filas duplicadas no filas unicas que tengan valores NaN"
   ]
  },
  {
   "cell_type": "code",
   "execution_count": 34,
   "metadata": {},
   "outputs": [
    {
     "data": {
      "text/plain": [
       "256"
      ]
     },
     "execution_count": 34,
     "metadata": {},
     "output_type": "execute_result"
    }
   ],
   "source": [
    "antes_de_drop - despues_de_drop"
   ]
  },
  {
   "cell_type": "code",
   "execution_count": 35,
   "metadata": {},
   "outputs": [],
   "source": [
    "data.rename(columns={'index':'id',\n",
    "                    'points':'puntaje',\n",
    "                    'price':'precio',\n",
    "                    'region_1':'region',\n",
    "                    'title':'titulo',\n",
    "                    'variety':'variedad',\n",
    "                    'winery':'bodega',\n",
    "                    'province':'provincia'}, \n",
    "                     inplace=True)"
   ]
  },
  {
   "cell_type": "code",
   "execution_count": 36,
   "metadata": {},
   "outputs": [
    {
     "data": {
      "text/html": [
       "<div>\n",
       "<style scoped>\n",
       "    .dataframe tbody tr th:only-of-type {\n",
       "        vertical-align: middle;\n",
       "    }\n",
       "\n",
       "    .dataframe tbody tr th {\n",
       "        vertical-align: top;\n",
       "    }\n",
       "\n",
       "    .dataframe thead th {\n",
       "        text-align: right;\n",
       "    }\n",
       "</style>\n",
       "<table border=\"1\" class=\"dataframe\">\n",
       "  <thead>\n",
       "    <tr style=\"text-align: right;\">\n",
       "      <th></th>\n",
       "      <th>id</th>\n",
       "      <th>puntaje</th>\n",
       "      <th>precio</th>\n",
       "      <th>region</th>\n",
       "      <th>titulo</th>\n",
       "      <th>variedad</th>\n",
       "      <th>bodega</th>\n",
       "      <th>creacion</th>\n",
       "      <th>categoria</th>\n",
       "      <th>provincia</th>\n",
       "    </tr>\n",
       "  </thead>\n",
       "  <tbody>\n",
       "    <tr>\n",
       "      <th>0</th>\n",
       "      <td>16</td>\n",
       "      <td>87</td>\n",
       "      <td>30.0</td>\n",
       "      <td>cafayate</td>\n",
       "      <td>felix lavaque 2010 felix malbec (cafayate)</td>\n",
       "      <td>malbec</td>\n",
       "      <td>felix lavaque</td>\n",
       "      <td>2010</td>\n",
       "      <td>promotor</td>\n",
       "      <td>salta</td>\n",
       "    </tr>\n",
       "    <tr>\n",
       "      <th>1</th>\n",
       "      <td>17</td>\n",
       "      <td>87</td>\n",
       "      <td>13.0</td>\n",
       "      <td>mendoza</td>\n",
       "      <td>gaucho andino 2011 winemaker selection malbec ...</td>\n",
       "      <td>malbec</td>\n",
       "      <td>gaucho andino</td>\n",
       "      <td>2011</td>\n",
       "      <td>promotor</td>\n",
       "      <td>mendoza</td>\n",
       "    </tr>\n",
       "    <tr>\n",
       "      <th>2</th>\n",
       "      <td>183</td>\n",
       "      <td>88</td>\n",
       "      <td>12.0</td>\n",
       "      <td>salta</td>\n",
       "      <td>alamos 2007 torrontes (salta)</td>\n",
       "      <td>torrontes</td>\n",
       "      <td>alamos</td>\n",
       "      <td>2007</td>\n",
       "      <td>promotor</td>\n",
       "      <td>salta</td>\n",
       "    </tr>\n",
       "    <tr>\n",
       "      <th>3</th>\n",
       "      <td>224</td>\n",
       "      <td>90</td>\n",
       "      <td>22.0</td>\n",
       "      <td>lujan de cuyo</td>\n",
       "      <td>mendel 2014 lunta malbec (lujan de cuyo)</td>\n",
       "      <td>malbec</td>\n",
       "      <td>mendel</td>\n",
       "      <td>2014</td>\n",
       "      <td>promotor</td>\n",
       "      <td>mendoza</td>\n",
       "    </tr>\n",
       "    <tr>\n",
       "      <th>4</th>\n",
       "      <td>231</td>\n",
       "      <td>85</td>\n",
       "      <td>10.0</td>\n",
       "      <td>mendoza</td>\n",
       "      <td>andean sky 2007 bonarda (mendoza)</td>\n",
       "      <td>bonarda</td>\n",
       "      <td>andean sky</td>\n",
       "      <td>2007</td>\n",
       "      <td>promotor</td>\n",
       "      <td>mendoza</td>\n",
       "    </tr>\n",
       "    <tr>\n",
       "      <th>5</th>\n",
       "      <td>245</td>\n",
       "      <td>85</td>\n",
       "      <td>12.0</td>\n",
       "      <td>san juan</td>\n",
       "      <td>finca las moras 2007 reserve chardonnay (san j...</td>\n",
       "      <td>chardonnay</td>\n",
       "      <td>finca las moras</td>\n",
       "      <td>2007</td>\n",
       "      <td>promotor</td>\n",
       "      <td>san juan</td>\n",
       "    </tr>\n",
       "    <tr>\n",
       "      <th>6</th>\n",
       "      <td>253</td>\n",
       "      <td>85</td>\n",
       "      <td>15.0</td>\n",
       "      <td>lujan de cuyo</td>\n",
       "      <td>cueva de las manos 2007 reserve malbec (lujan ...</td>\n",
       "      <td>malbec</td>\n",
       "      <td>cueva de las manos</td>\n",
       "      <td>2007</td>\n",
       "      <td>promotor</td>\n",
       "      <td>mendoza</td>\n",
       "    </tr>\n",
       "    <tr>\n",
       "      <th>7</th>\n",
       "      <td>261</td>\n",
       "      <td>89</td>\n",
       "      <td>37.0</td>\n",
       "      <td>mendoza</td>\n",
       "      <td>algodon 2008 estate blend gran reserva red</td>\n",
       "      <td>red blend</td>\n",
       "      <td>algodon</td>\n",
       "      <td>2008</td>\n",
       "      <td>promotor</td>\n",
       "      <td>mendoza</td>\n",
       "    </tr>\n",
       "    <tr>\n",
       "      <th>8</th>\n",
       "      <td>266</td>\n",
       "      <td>89</td>\n",
       "      <td>14.0</td>\n",
       "      <td>mendoza</td>\n",
       "      <td>kaiken 2008 corte malbec-bonarda-petit verdot ...</td>\n",
       "      <td>red blend</td>\n",
       "      <td>kaiken</td>\n",
       "      <td>2008</td>\n",
       "      <td>promotor</td>\n",
       "      <td>mendoza</td>\n",
       "    </tr>\n",
       "    <tr>\n",
       "      <th>9</th>\n",
       "      <td>273</td>\n",
       "      <td>89</td>\n",
       "      <td>19.0</td>\n",
       "      <td>valle de uco</td>\n",
       "      <td>o. fournier 2007 b crux red (uco valley)</td>\n",
       "      <td>red blend</td>\n",
       "      <td>o. fournier</td>\n",
       "      <td>2007</td>\n",
       "      <td>promotor</td>\n",
       "      <td>mendoza</td>\n",
       "    </tr>\n",
       "  </tbody>\n",
       "</table>\n",
       "</div>"
      ],
      "text/plain": [
       "    id  puntaje  precio         region  \\\n",
       "0   16       87    30.0       cafayate   \n",
       "1   17       87    13.0        mendoza   \n",
       "2  183       88    12.0          salta   \n",
       "3  224       90    22.0  lujan de cuyo   \n",
       "4  231       85    10.0        mendoza   \n",
       "5  245       85    12.0       san juan   \n",
       "6  253       85    15.0  lujan de cuyo   \n",
       "7  261       89    37.0        mendoza   \n",
       "8  266       89    14.0        mendoza   \n",
       "9  273       89    19.0   valle de uco   \n",
       "\n",
       "                                              titulo    variedad  \\\n",
       "0         felix lavaque 2010 felix malbec (cafayate)      malbec   \n",
       "1  gaucho andino 2011 winemaker selection malbec ...      malbec   \n",
       "2                      alamos 2007 torrontes (salta)   torrontes   \n",
       "3           mendel 2014 lunta malbec (lujan de cuyo)      malbec   \n",
       "4                  andean sky 2007 bonarda (mendoza)     bonarda   \n",
       "5  finca las moras 2007 reserve chardonnay (san j...  chardonnay   \n",
       "6  cueva de las manos 2007 reserve malbec (lujan ...      malbec   \n",
       "7         algodon 2008 estate blend gran reserva red   red blend   \n",
       "8  kaiken 2008 corte malbec-bonarda-petit verdot ...   red blend   \n",
       "9           o. fournier 2007 b crux red (uco valley)   red blend   \n",
       "\n",
       "               bodega  creacion categoria provincia  \n",
       "0       felix lavaque      2010  promotor     salta  \n",
       "1       gaucho andino      2011  promotor   mendoza  \n",
       "2              alamos      2007  promotor     salta  \n",
       "3              mendel      2014  promotor   mendoza  \n",
       "4          andean sky      2007  promotor   mendoza  \n",
       "5     finca las moras      2007  promotor  san juan  \n",
       "6  cueva de las manos      2007  promotor   mendoza  \n",
       "7             algodon      2008  promotor   mendoza  \n",
       "8              kaiken      2008  promotor   mendoza  \n",
       "9         o. fournier      2007  promotor   mendoza  "
      ]
     },
     "execution_count": 36,
     "metadata": {},
     "output_type": "execute_result"
    }
   ],
   "source": [
    "data.head(10)"
   ]
  },
  {
   "cell_type": "code",
   "execution_count": 38,
   "metadata": {},
   "outputs": [],
   "source": [
    "data.sort_values(['puntaje', 'precio'], ascending=[False, False], inplace=True)"
   ]
  },
  {
   "cell_type": "code",
   "execution_count": 39,
   "metadata": {},
   "outputs": [
    {
     "data": {
      "text/html": [
       "<div>\n",
       "<style scoped>\n",
       "    .dataframe tbody tr th:only-of-type {\n",
       "        vertical-align: middle;\n",
       "    }\n",
       "\n",
       "    .dataframe tbody tr th {\n",
       "        vertical-align: top;\n",
       "    }\n",
       "\n",
       "    .dataframe thead th {\n",
       "        text-align: right;\n",
       "    }\n",
       "</style>\n",
       "<table border=\"1\" class=\"dataframe\">\n",
       "  <thead>\n",
       "    <tr style=\"text-align: right;\">\n",
       "      <th></th>\n",
       "      <th>id</th>\n",
       "      <th>puntaje</th>\n",
       "      <th>precio</th>\n",
       "      <th>region</th>\n",
       "      <th>titulo</th>\n",
       "      <th>variedad</th>\n",
       "      <th>bodega</th>\n",
       "      <th>creacion</th>\n",
       "      <th>categoria</th>\n",
       "      <th>provincia</th>\n",
       "    </tr>\n",
       "  </thead>\n",
       "  <tbody>\n",
       "    <tr>\n",
       "      <th>2278</th>\n",
       "      <td>82754</td>\n",
       "      <td>97</td>\n",
       "      <td>120.0</td>\n",
       "      <td>mendoza</td>\n",
       "      <td>bodega catena zapata 2006 nicasia vineyard mal...</td>\n",
       "      <td>malbec</td>\n",
       "      <td>bodega catena zapata</td>\n",
       "      <td>2006</td>\n",
       "      <td>promotor</td>\n",
       "      <td>mendoza</td>\n",
       "    </tr>\n",
       "    <tr>\n",
       "      <th>2980</th>\n",
       "      <td>109230</td>\n",
       "      <td>96</td>\n",
       "      <td>50.0</td>\n",
       "      <td>tupungato</td>\n",
       "      <td>riglos 2009 gran corte las divas vineyard red ...</td>\n",
       "      <td>bordeaux-style red blend</td>\n",
       "      <td>riglos</td>\n",
       "      <td>2009</td>\n",
       "      <td>promotor</td>\n",
       "      <td>mendoza</td>\n",
       "    </tr>\n",
       "    <tr>\n",
       "      <th>3000</th>\n",
       "      <td>109840</td>\n",
       "      <td>96</td>\n",
       "      <td>48.0</td>\n",
       "      <td>mendoza</td>\n",
       "      <td>alta vista 2013 single vineyard temis malbec (...</td>\n",
       "      <td>malbec</td>\n",
       "      <td>alta vista</td>\n",
       "      <td>2013</td>\n",
       "      <td>promotor</td>\n",
       "      <td>mendoza</td>\n",
       "    </tr>\n",
       "    <tr>\n",
       "      <th>3320</th>\n",
       "      <td>122027</td>\n",
       "      <td>95</td>\n",
       "      <td>225.0</td>\n",
       "      <td>mendoza</td>\n",
       "      <td>vina cobos 2010 cobos marchiori vineyard malbe...</td>\n",
       "      <td>malbec</td>\n",
       "      <td>vina cobos</td>\n",
       "      <td>2010</td>\n",
       "      <td>promotor</td>\n",
       "      <td>mendoza</td>\n",
       "    </tr>\n",
       "    <tr>\n",
       "      <th>2158</th>\n",
       "      <td>78302</td>\n",
       "      <td>95</td>\n",
       "      <td>100.0</td>\n",
       "      <td>mendoza</td>\n",
       "      <td>terrazas de los andes 2009 single parcel los c...</td>\n",
       "      <td>malbec</td>\n",
       "      <td>terrazas de los andes</td>\n",
       "      <td>2009</td>\n",
       "      <td>promotor</td>\n",
       "      <td>mendoza</td>\n",
       "    </tr>\n",
       "    <tr>\n",
       "      <th>2159</th>\n",
       "      <td>78303</td>\n",
       "      <td>95</td>\n",
       "      <td>90.0</td>\n",
       "      <td>salta</td>\n",
       "      <td>colome 2010 reserva malbec (salta)</td>\n",
       "      <td>malbec</td>\n",
       "      <td>colome</td>\n",
       "      <td>2010</td>\n",
       "      <td>promotor</td>\n",
       "      <td>salta</td>\n",
       "    </tr>\n",
       "    <tr>\n",
       "      <th>281</th>\n",
       "      <td>8869</td>\n",
       "      <td>95</td>\n",
       "      <td>74.0</td>\n",
       "      <td>mendoza</td>\n",
       "      <td>pascual toso 2014 finca pedregal single vineya...</td>\n",
       "      <td>cabernet sauvignon-malbec</td>\n",
       "      <td>pascual toso</td>\n",
       "      <td>2014</td>\n",
       "      <td>promotor</td>\n",
       "      <td>mendoza</td>\n",
       "    </tr>\n",
       "    <tr>\n",
       "      <th>1143</th>\n",
       "      <td>38984</td>\n",
       "      <td>95</td>\n",
       "      <td>62.0</td>\n",
       "      <td>mendoza</td>\n",
       "      <td>finca perdriel 2007 vineyard selection red (me...</td>\n",
       "      <td>bordeaux-style red blend</td>\n",
       "      <td>finca perdriel</td>\n",
       "      <td>2007</td>\n",
       "      <td>promotor</td>\n",
       "      <td>mendoza</td>\n",
       "    </tr>\n",
       "    <tr>\n",
       "      <th>2415</th>\n",
       "      <td>88861</td>\n",
       "      <td>95</td>\n",
       "      <td>50.0</td>\n",
       "      <td>mendoza</td>\n",
       "      <td>trapiche 2009 finca jorge miralles single vine...</td>\n",
       "      <td>malbec</td>\n",
       "      <td>trapiche</td>\n",
       "      <td>2009</td>\n",
       "      <td>promotor</td>\n",
       "      <td>mendoza</td>\n",
       "    </tr>\n",
       "    <tr>\n",
       "      <th>3445</th>\n",
       "      <td>126237</td>\n",
       "      <td>95</td>\n",
       "      <td>50.0</td>\n",
       "      <td>mendoza</td>\n",
       "      <td>vistalba 2007 corte a red (mendoza)</td>\n",
       "      <td>red blend</td>\n",
       "      <td>vistalba</td>\n",
       "      <td>2007</td>\n",
       "      <td>promotor</td>\n",
       "      <td>mendoza</td>\n",
       "    </tr>\n",
       "  </tbody>\n",
       "</table>\n",
       "</div>"
      ],
      "text/plain": [
       "          id  puntaje  precio     region  \\\n",
       "2278   82754       97   120.0    mendoza   \n",
       "2980  109230       96    50.0  tupungato   \n",
       "3000  109840       96    48.0    mendoza   \n",
       "3320  122027       95   225.0    mendoza   \n",
       "2158   78302       95   100.0    mendoza   \n",
       "2159   78303       95    90.0      salta   \n",
       "281     8869       95    74.0    mendoza   \n",
       "1143   38984       95    62.0    mendoza   \n",
       "2415   88861       95    50.0    mendoza   \n",
       "3445  126237       95    50.0    mendoza   \n",
       "\n",
       "                                                 titulo  \\\n",
       "2278  bodega catena zapata 2006 nicasia vineyard mal...   \n",
       "2980  riglos 2009 gran corte las divas vineyard red ...   \n",
       "3000  alta vista 2013 single vineyard temis malbec (...   \n",
       "3320  vina cobos 2010 cobos marchiori vineyard malbe...   \n",
       "2158  terrazas de los andes 2009 single parcel los c...   \n",
       "2159                 colome 2010 reserva malbec (salta)   \n",
       "281   pascual toso 2014 finca pedregal single vineya...   \n",
       "1143  finca perdriel 2007 vineyard selection red (me...   \n",
       "2415  trapiche 2009 finca jorge miralles single vine...   \n",
       "3445                vistalba 2007 corte a red (mendoza)   \n",
       "\n",
       "                       variedad                 bodega  creacion categoria  \\\n",
       "2278                     malbec   bodega catena zapata      2006  promotor   \n",
       "2980   bordeaux-style red blend                 riglos      2009  promotor   \n",
       "3000                     malbec             alta vista      2013  promotor   \n",
       "3320                     malbec             vina cobos      2010  promotor   \n",
       "2158                     malbec  terrazas de los andes      2009  promotor   \n",
       "2159                     malbec                 colome      2010  promotor   \n",
       "281   cabernet sauvignon-malbec           pascual toso      2014  promotor   \n",
       "1143   bordeaux-style red blend         finca perdriel      2007  promotor   \n",
       "2415                     malbec               trapiche      2009  promotor   \n",
       "3445                  red blend               vistalba      2007  promotor   \n",
       "\n",
       "     provincia  \n",
       "2278   mendoza  \n",
       "2980   mendoza  \n",
       "3000   mendoza  \n",
       "3320   mendoza  \n",
       "2158   mendoza  \n",
       "2159     salta  \n",
       "281    mendoza  \n",
       "1143   mendoza  \n",
       "2415   mendoza  \n",
       "3445   mendoza  "
      ]
     },
     "execution_count": 39,
     "metadata": {},
     "output_type": "execute_result"
    }
   ],
   "source": [
    "data.head(10)"
   ]
  },
  {
   "cell_type": "code",
   "execution_count": null,
   "metadata": {},
   "outputs": [],
   "source": []
  }
 ],
 "metadata": {
  "kernelspec": {
   "display_name": "Python 3",
   "language": "python",
   "name": "python3"
  },
  "language_info": {
   "codemirror_mode": {
    "name": "ipython",
    "version": 3
   },
   "file_extension": ".py",
   "mimetype": "text/x-python",
   "name": "python",
   "nbconvert_exporter": "python",
   "pygments_lexer": "ipython3",
   "version": "3.7.1"
  }
 },
 "nbformat": 4,
 "nbformat_minor": 2
}
