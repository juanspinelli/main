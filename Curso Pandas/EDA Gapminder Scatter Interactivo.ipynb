{
 "cells": [
  {
   "cell_type": "code",
   "execution_count": 1,
   "metadata": {},
   "outputs": [],
   "source": [
    "import pandas as pd\n",
    "import numpy as np\n",
    "import scipy.stats\n",
    "import matplotlib\n",
    "import matplotlib.pyplot as pp\n",
    "from IPython import display\n",
    "from ipywidgets import interact, widgets\n",
    "%matplotlib inline"
   ]
  },
  {
   "cell_type": "code",
   "execution_count": 2,
   "metadata": {},
   "outputs": [],
   "source": [
    "datos = pd.read_csv('Datos/gapminder/gapminder.xls')"
   ]
  },
  {
   "cell_type": "code",
   "execution_count": 3,
   "metadata": {},
   "outputs": [
    {
     "data": {
      "text/html": [
       "<div>\n",
       "<style scoped>\n",
       "    .dataframe tbody tr th:only-of-type {\n",
       "        vertical-align: middle;\n",
       "    }\n",
       "\n",
       "    .dataframe tbody tr th {\n",
       "        vertical-align: top;\n",
       "    }\n",
       "\n",
       "    .dataframe thead th {\n",
       "        text-align: right;\n",
       "    }\n",
       "</style>\n",
       "<table border=\"1\" class=\"dataframe\">\n",
       "  <thead>\n",
       "    <tr style=\"text-align: right;\">\n",
       "      <th></th>\n",
       "      <th>country</th>\n",
       "      <th>year</th>\n",
       "      <th>region</th>\n",
       "      <th>population</th>\n",
       "      <th>life_expectancy</th>\n",
       "      <th>age5_surviving</th>\n",
       "      <th>babies_per_woman</th>\n",
       "      <th>gdp_per_capita</th>\n",
       "      <th>gdp_per_day</th>\n",
       "    </tr>\n",
       "  </thead>\n",
       "  <tbody>\n",
       "    <tr>\n",
       "      <th>0</th>\n",
       "      <td>Afghanistan</td>\n",
       "      <td>1800</td>\n",
       "      <td>Asia</td>\n",
       "      <td>3280000.0</td>\n",
       "      <td>28.21</td>\n",
       "      <td>53.142</td>\n",
       "      <td>7.0</td>\n",
       "      <td>603.0</td>\n",
       "      <td>1.650924</td>\n",
       "    </tr>\n",
       "    <tr>\n",
       "      <th>1</th>\n",
       "      <td>Afghanistan</td>\n",
       "      <td>1810</td>\n",
       "      <td>Asia</td>\n",
       "      <td>3280000.0</td>\n",
       "      <td>28.11</td>\n",
       "      <td>53.002</td>\n",
       "      <td>7.0</td>\n",
       "      <td>604.0</td>\n",
       "      <td>1.653662</td>\n",
       "    </tr>\n",
       "  </tbody>\n",
       "</table>\n",
       "</div>"
      ],
      "text/plain": [
       "       country  year region  population  life_expectancy  age5_surviving  \\\n",
       "0  Afghanistan  1800   Asia   3280000.0            28.21          53.142   \n",
       "1  Afghanistan  1810   Asia   3280000.0            28.11          53.002   \n",
       "\n",
       "   babies_per_woman  gdp_per_capita  gdp_per_day  \n",
       "0               7.0           603.0     1.650924  \n",
       "1               7.0           604.0     1.653662  "
      ]
     },
     "execution_count": 3,
     "metadata": {},
     "output_type": "execute_result"
    }
   ],
   "source": [
    "datos.head(2)"
   ]
  },
  {
   "cell_type": "code",
   "execution_count": 4,
   "metadata": {},
   "outputs": [
    {
     "name": "stdout",
     "output_type": "stream",
     "text": [
      "<class 'pandas.core.frame.DataFrame'>\n",
      "RangeIndex: 14740 entries, 0 to 14739\n",
      "Data columns (total 9 columns):\n",
      "country             14740 non-null object\n",
      "year                14740 non-null int64\n",
      "region              14740 non-null object\n",
      "population          14740 non-null float64\n",
      "life_expectancy     14740 non-null float64\n",
      "age5_surviving      14740 non-null float64\n",
      "babies_per_woman    14740 non-null float64\n",
      "gdp_per_capita      14740 non-null float64\n",
      "gdp_per_day         14740 non-null float64\n",
      "dtypes: float64(6), int64(1), object(2)\n",
      "memory usage: 921.3+ KB\n"
     ]
    }
   ],
   "source": [
    "datos.info()"
   ]
  },
  {
   "cell_type": "code",
   "execution_count": 5,
   "metadata": {},
   "outputs": [
    {
     "data": {
      "text/html": [
       "<div>\n",
       "<style scoped>\n",
       "    .dataframe tbody tr th:only-of-type {\n",
       "        vertical-align: middle;\n",
       "    }\n",
       "\n",
       "    .dataframe tbody tr th {\n",
       "        vertical-align: top;\n",
       "    }\n",
       "\n",
       "    .dataframe thead th {\n",
       "        text-align: right;\n",
       "    }\n",
       "</style>\n",
       "<table border=\"1\" class=\"dataframe\">\n",
       "  <thead>\n",
       "    <tr style=\"text-align: right;\">\n",
       "      <th></th>\n",
       "      <th>country</th>\n",
       "      <th>year</th>\n",
       "      <th>region</th>\n",
       "      <th>population</th>\n",
       "      <th>life_expectancy</th>\n",
       "      <th>age5_surviving</th>\n",
       "      <th>babies_per_woman</th>\n",
       "      <th>gdp_per_capita</th>\n",
       "      <th>gdp_per_day</th>\n",
       "    </tr>\n",
       "  </thead>\n",
       "  <tbody>\n",
       "    <tr>\n",
       "      <th>0</th>\n",
       "      <td>Afghanistan</td>\n",
       "      <td>1800</td>\n",
       "      <td>Asia</td>\n",
       "      <td>3280000.0</td>\n",
       "      <td>28.21</td>\n",
       "      <td>53.142</td>\n",
       "      <td>7.00</td>\n",
       "      <td>603.0</td>\n",
       "      <td>1.650924</td>\n",
       "    </tr>\n",
       "    <tr>\n",
       "      <th>50</th>\n",
       "      <td>Afghanistan</td>\n",
       "      <td>1985</td>\n",
       "      <td>Asia</td>\n",
       "      <td>11630498.0</td>\n",
       "      <td>45.21</td>\n",
       "      <td>78.400</td>\n",
       "      <td>7.68</td>\n",
       "      <td>1384.0</td>\n",
       "      <td>3.789185</td>\n",
       "    </tr>\n",
       "    <tr>\n",
       "      <th>100</th>\n",
       "      <td>Albania</td>\n",
       "      <td>1954</td>\n",
       "      <td>Europe</td>\n",
       "      <td>1382881.0</td>\n",
       "      <td>56.59</td>\n",
       "      <td>84.829</td>\n",
       "      <td>6.31</td>\n",
       "      <td>2108.0</td>\n",
       "      <td>5.771389</td>\n",
       "    </tr>\n",
       "    <tr>\n",
       "      <th>150</th>\n",
       "      <td>Albania</td>\n",
       "      <td>2004</td>\n",
       "      <td>Europe</td>\n",
       "      <td>3103758.0</td>\n",
       "      <td>75.90</td>\n",
       "      <td>97.850</td>\n",
       "      <td>2.00</td>\n",
       "      <td>6672.0</td>\n",
       "      <td>18.266940</td>\n",
       "    </tr>\n",
       "    <tr>\n",
       "      <th>200</th>\n",
       "      <td>Algeria</td>\n",
       "      <td>1973</td>\n",
       "      <td>Africa</td>\n",
       "      <td>15804428.0</td>\n",
       "      <td>53.91</td>\n",
       "      <td>77.660</td>\n",
       "      <td>7.55</td>\n",
       "      <td>7581.0</td>\n",
       "      <td>20.755647</td>\n",
       "    </tr>\n",
       "  </tbody>\n",
       "</table>\n",
       "</div>"
      ],
      "text/plain": [
       "         country  year  region  population  life_expectancy  age5_surviving  \\\n",
       "0    Afghanistan  1800    Asia   3280000.0            28.21          53.142   \n",
       "50   Afghanistan  1985    Asia  11630498.0            45.21          78.400   \n",
       "100      Albania  1954  Europe   1382881.0            56.59          84.829   \n",
       "150      Albania  2004  Europe   3103758.0            75.90          97.850   \n",
       "200      Algeria  1973  Africa  15804428.0            53.91          77.660   \n",
       "\n",
       "     babies_per_woman  gdp_per_capita  gdp_per_day  \n",
       "0                7.00           603.0     1.650924  \n",
       "50               7.68          1384.0     3.789185  \n",
       "100              6.31          2108.0     5.771389  \n",
       "150              2.00          6672.0    18.266940  \n",
       "200              7.55          7581.0    20.755647  "
      ]
     },
     "execution_count": 5,
     "metadata": {},
     "output_type": "execute_result"
    }
   ],
   "source": [
    "datos.loc[0:200:50]"
   ]
  },
  {
   "cell_type": "code",
   "execution_count": 6,
   "metadata": {},
   "outputs": [],
   "source": [
    "datosDos = datos.dropna()"
   ]
  },
  {
   "cell_type": "code",
   "execution_count": 7,
   "metadata": {},
   "outputs": [],
   "source": [
    "datosDos.reset_index(drop=True, inplace=True)"
   ]
  },
  {
   "cell_type": "code",
   "execution_count": 8,
   "metadata": {},
   "outputs": [
    {
     "data": {
      "text/plain": [
       "country              object\n",
       "year                  int64\n",
       "region               object\n",
       "population          float64\n",
       "life_expectancy     float64\n",
       "age5_surviving      float64\n",
       "babies_per_woman    float64\n",
       "gdp_per_capita      float64\n",
       "gdp_per_day         float64\n",
       "dtype: object"
      ]
     },
     "execution_count": 8,
     "metadata": {},
     "output_type": "execute_result"
    }
   ],
   "source": [
    "datosDos.dtypes"
   ]
  },
  {
   "cell_type": "code",
   "execution_count": 9,
   "metadata": {},
   "outputs": [
    {
     "data": {
      "text/plain": [
       "<matplotlib.axes._subplots.AxesSubplot at 0xe8857d0>"
      ]
     },
     "execution_count": 9,
     "metadata": {},
     "output_type": "execute_result"
    },
    {
     "data": {
      "image/png": "[encoded data removed]",
      "text/plain": [
       "<Figure size 432x288 with 1 Axes>"
      ]
     },
     "metadata": {
      "needs_background": "light"
     },
     "output_type": "display_data"
    }
   ],
   "source": [
    "datosDos[datosDos.year == 1965].plot.scatter('babies_per_woman','age5_surviving')"
   ]
  },
  {
   "cell_type": "code",
   "execution_count": 10,
   "metadata": {},
   "outputs": [],
   "source": [
    "def plotyearDinamico(anio):\n",
    "    Continentes = {'Africa': 'skyblue', 'Europe' : 'gold', 'America' : 'palegreen', 'Asia' : 'coral'}\n",
    "    data = datosDos[datosDos.year == anio]\n",
    "    area = 10e-6 * datosDos.population\n",
    "    color = data.region.map({'Africa': 'skyblue', 'Europe' : 'gold', 'America' : 'palegreen', 'Asia' : 'coral'})\n",
    "    \n",
    "    data.plot.scatter('babies_per_woman', 'age5_surviving', s = area, c = color, linewidth = 1, edgecolors = 'k',\n",
    "                     figsize=(9,6), alpha=0.8)\n",
    "    \n",
    "    pp.axis(ymin = 50, ymax = 105, xmin = 0, xmax = 8)\n",
    "    pp.xlabel('babies_per_woman')\n",
    "    pp.ylabel('age5_surviving')\n",
    "    \n",
    "    pp.grid(True)\n",
    "    "
   ]
  },
  {
   "cell_type": "code",
   "execution_count": 11,
   "metadata": {},
   "outputs": [
    {
     "data": {
      "application/vnd.jupyter.widget-view+json": {
       "model_id": "1ba194de278a45ecbc775565d55a57ac",
       "version_major": 2,
       "version_minor": 0
      },
      "text/plain": [
       "interactive(children=(IntSlider(value=1950, description='anio', max=2015, min=1950), Output()), _dom_classes=(…"
      ]
     },
     "metadata": {},
     "output_type": "display_data"
    },
    {
     "data": {
      "text/plain": [
       "<function __main__.plotyearDinamico(anio)>"
      ]
     },
     "execution_count": 11,
     "metadata": {},
     "output_type": "execute_result"
    }
   ],
   "source": [
    "interact(plotyearDinamico, anio=widgets.IntSlider(min=1950, max=2015, step=1, value= 1950))"
   ]
  },
  {
   "cell_type": "code",
   "execution_count": null,
   "metadata": {},
   "outputs": [],
   "source": []
  }
 ],
 "metadata": {
  "kernelspec": {
   "display_name": "Python 3",
   "language": "python",
   "name": "python3"
  },
  "language_info": {
   "codemirror_mode": {
    "name": "ipython",
    "version": 3
   },
   "file_extension": ".py",
   "mimetype": "text/x-python",
   "name": "python",
   "nbconvert_exporter": "python",
   "pygments_lexer": "ipython3",
   "version": "3.7.1"
  },
  "widgets": {
   "application/vnd.jupyter.widget-state+json": {
    "state": {
     "1b95f81eb712478aae2d9aacedc7fb13": {
      "model_module": "@jupyter-widgets/base",
      "model_module_version": "1.1.0",
      "model_name": "LayoutModel",
      "state": {}
     },
     "1ba194de278a45ecbc775565d55a57ac": {
      "model_module": "@jupyter-widgets/controls",
      "model_module_version": "1.4.0",
      "model_name": "VBoxModel",
      "state": {
       "_dom_classes": [
        "widget-interact"
       ],
       "children": [
        "IPY_MODEL_4d56eae5e9234ed9a32dd527dcd0ff34",
        "IPY_MODEL_29fe694403104c5893aecdb81d2d9bee"
       ],
       "layout": "IPY_MODEL_cf9e86078c7f4281b10532c6d966b576"
      }
     },
     "2678f564a25f4c4f8b5ca0079d08ab10": {
      "model_module": "@jupyter-widgets/base",
      "model_module_version": "1.1.0",
      "model_name": "LayoutModel",
      "state": {}
     },
     "29fe694403104c5893aecdb81d2d9bee": {
      "model_module": "@jupyter-widgets/output",
      "model_module_version": "1.0.0",
      "model_name": "OutputModel",
      "state": {
       "layout": "IPY_MODEL_2678f564a25f4c4f8b5ca0079d08ab10",
       "outputs": [
        {
         "data": {
          "image/png": "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\n",
          "text/plain": "<Figure size 648x432 with 1 Axes>"
         },
         "metadata": {
          "needs_background": "light"
         },
         "output_type": "display_data"
        }
       ]
      }
     },
     "4d56eae5e9234ed9a32dd527dcd0ff34": {
      "model_module": "@jupyter-widgets/controls",
      "model_module_version": "1.4.0",
      "model_name": "IntSliderModel",
      "state": {
       "description": "anio",
       "layout": "IPY_MODEL_1b95f81eb712478aae2d9aacedc7fb13",
       "max": 2015,
       "min": 1950,
       "style": "IPY_MODEL_fcce040dbe204d2ca53b90827ff0e1d0",
       "value": 1950
      }
     },
     "cf9e86078c7f4281b10532c6d966b576": {
      "model_module": "@jupyter-widgets/base",
      "model_module_version": "1.1.0",
      "model_name": "LayoutModel",
      "state": {}
     },
     "fcce040dbe204d2ca53b90827ff0e1d0": {
      "model_module": "@jupyter-widgets/controls",
      "model_module_version": "1.4.0",
      "model_name": "SliderStyleModel",
      "state": {
       "description_width": ""
      }
     }
    },
    "version_major": 2,
    "version_minor": 0
   }
  }
 },
 "nbformat": 4,
 "nbformat_minor": 2
}
